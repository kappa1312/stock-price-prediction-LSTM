{
  "nbformat": 4,
  "nbformat_minor": 0,
  "metadata": {
    "colab": {
      "provenance": [],
      "gpuType": "T4"
    },
    "kernelspec": {
      "name": "python3",
      "display_name": "Python 3"
    },
    "language_info": {
      "name": "python"
    },
    "accelerator": "GPU"
  },
  "cells": [
    {
      "cell_type": "code",
      "execution_count": 176,
      "metadata": {
        "id": "BWu3urELLv-C"
      },
      "outputs": [],
      "source": [
        "# Data collection\n",
        "import pandas_datareader as pdr"
      ]
    },
    {
      "cell_type": "code",
      "source": [
        "# Tiingo key\n",
        "key = \"077d0bda9b799940f089b43980c7c1be5443f407\""
      ],
      "metadata": {
        "id": "YrG6a_inM5az"
      },
      "execution_count": 177,
      "outputs": []
    },
    {
      "cell_type": "code",
      "source": [
        "df = pdr.get_data_tiingo('AAPL', api_key = key)"
      ],
      "metadata": {
        "colab": {
          "base_uri": "https://localhost:8080/"
        },
        "id": "mKth7tYzNU-R",
        "outputId": "a8b80ea3-a1da-437d-ef0e-946cfa39f7c9"
      },
      "execution_count": 178,
      "outputs": [
        {
          "output_type": "stream",
          "name": "stderr",
          "text": [
            "<ipython-input-178-036d639a4a7c>:1: FutureWarning: In a future version of pandas all arguments of concat except for the argument 'objs' will be keyword-only.\n",
            "  df = pdr.get_data_tiingo('AAPL', api_key = key)\n"
          ]
        }
      ]
    },
    {
      "cell_type": "code",
      "source": [
        "df.to_csv('AAPL.csv')"
      ],
      "metadata": {
        "id": "MeS8W1WaNdi_"
      },
      "execution_count": 179,
      "outputs": []
    },
    {
      "cell_type": "code",
      "source": [
        "import pandas as pd"
      ],
      "metadata": {
        "id": "ZohmYmi7NidW"
      },
      "execution_count": 180,
      "outputs": []
    },
    {
      "cell_type": "code",
      "source": [
        "df = pd.read_csv('AAPL.csv')"
      ],
      "metadata": {
        "id": "rcnJsvGzNl6m"
      },
      "execution_count": 181,
      "outputs": []
    },
    {
      "cell_type": "code",
      "source": [
        "df.head()\n",
        "#from date 04/09/2018"
      ],
      "metadata": {
        "colab": {
          "base_uri": "https://localhost:8080/",
          "height": 206
        },
        "id": "JM6IVHmwN0XH",
        "outputId": "4c597608-9024-4825-c0c4-868c0c7115da"
      },
      "execution_count": 182,
      "outputs": [
        {
          "output_type": "execute_result",
          "data": {
            "text/plain": [
              "  symbol                       date   close    high     low    open    volume  \\\n",
              "0   AAPL  2018-09-04 00:00:00+00:00  228.36  229.18  226.63  228.41  27390132   \n",
              "1   AAPL  2018-09-05 00:00:00+00:00  226.87  229.67  225.10  228.99  33332960   \n",
              "2   AAPL  2018-09-06 00:00:00+00:00  223.10  227.35  221.30  226.23  34289976   \n",
              "3   AAPL  2018-09-07 00:00:00+00:00  221.30  225.37  220.71  221.85  37619810   \n",
              "4   AAPL  2018-09-10 00:00:00+00:00  218.33  221.85  216.47  220.95  39516453   \n",
              "\n",
              "    adjClose    adjHigh     adjLow    adjOpen  adjVolume  divCash  splitFactor  \n",
              "0  54.673002  54.869323  54.258813  54.684973  109560528      0.0          1.0  \n",
              "1  54.316273  54.986637  53.892507  54.823834  133331840      0.0          1.0  \n",
              "2  53.413675  54.431192  52.982726  54.163047  137159904      0.0          1.0  \n",
              "3  52.982726  53.957149  52.841471  53.114405  150479240      0.0          1.0  \n",
              "4  52.271661  53.114405  51.826348  52.898931  158065812      0.0          1.0  "
            ],
            "text/html": [
              "\n",
              "  <div id=\"df-b350b2b8-99f6-45e9-8214-8911e123bce2\" class=\"colab-df-container\">\n",
              "    <div>\n",
              "<style scoped>\n",
              "    .dataframe tbody tr th:only-of-type {\n",
              "        vertical-align: middle;\n",
              "    }\n",
              "\n",
              "    .dataframe tbody tr th {\n",
              "        vertical-align: top;\n",
              "    }\n",
              "\n",
              "    .dataframe thead th {\n",
              "        text-align: right;\n",
              "    }\n",
              "</style>\n",
              "<table border=\"1\" class=\"dataframe\">\n",
              "  <thead>\n",
              "    <tr style=\"text-align: right;\">\n",
              "      <th></th>\n",
              "      <th>symbol</th>\n",
              "      <th>date</th>\n",
              "      <th>close</th>\n",
              "      <th>high</th>\n",
              "      <th>low</th>\n",
              "      <th>open</th>\n",
              "      <th>volume</th>\n",
              "      <th>adjClose</th>\n",
              "      <th>adjHigh</th>\n",
              "      <th>adjLow</th>\n",
              "      <th>adjOpen</th>\n",
              "      <th>adjVolume</th>\n",
              "      <th>divCash</th>\n",
              "      <th>splitFactor</th>\n",
              "    </tr>\n",
              "  </thead>\n",
              "  <tbody>\n",
              "    <tr>\n",
              "      <th>0</th>\n",
              "      <td>AAPL</td>\n",
              "      <td>2018-09-04 00:00:00+00:00</td>\n",
              "      <td>228.36</td>\n",
              "      <td>229.18</td>\n",
              "      <td>226.63</td>\n",
              "      <td>228.41</td>\n",
              "      <td>27390132</td>\n",
              "      <td>54.673002</td>\n",
              "      <td>54.869323</td>\n",
              "      <td>54.258813</td>\n",
              "      <td>54.684973</td>\n",
              "      <td>109560528</td>\n",
              "      <td>0.0</td>\n",
              "      <td>1.0</td>\n",
              "    </tr>\n",
              "    <tr>\n",
              "      <th>1</th>\n",
              "      <td>AAPL</td>\n",
              "      <td>2018-09-05 00:00:00+00:00</td>\n",
              "      <td>226.87</td>\n",
              "      <td>229.67</td>\n",
              "      <td>225.10</td>\n",
              "      <td>228.99</td>\n",
              "      <td>33332960</td>\n",
              "      <td>54.316273</td>\n",
              "      <td>54.986637</td>\n",
              "      <td>53.892507</td>\n",
              "      <td>54.823834</td>\n",
              "      <td>133331840</td>\n",
              "      <td>0.0</td>\n",
              "      <td>1.0</td>\n",
              "    </tr>\n",
              "    <tr>\n",
              "      <th>2</th>\n",
              "      <td>AAPL</td>\n",
              "      <td>2018-09-06 00:00:00+00:00</td>\n",
              "      <td>223.10</td>\n",
              "      <td>227.35</td>\n",
              "      <td>221.30</td>\n",
              "      <td>226.23</td>\n",
              "      <td>34289976</td>\n",
              "      <td>53.413675</td>\n",
              "      <td>54.431192</td>\n",
              "      <td>52.982726</td>\n",
              "      <td>54.163047</td>\n",
              "      <td>137159904</td>\n",
              "      <td>0.0</td>\n",
              "      <td>1.0</td>\n",
              "    </tr>\n",
              "    <tr>\n",
              "      <th>3</th>\n",
              "      <td>AAPL</td>\n",
              "      <td>2018-09-07 00:00:00+00:00</td>\n",
              "      <td>221.30</td>\n",
              "      <td>225.37</td>\n",
              "      <td>220.71</td>\n",
              "      <td>221.85</td>\n",
              "      <td>37619810</td>\n",
              "      <td>52.982726</td>\n",
              "      <td>53.957149</td>\n",
              "      <td>52.841471</td>\n",
              "      <td>53.114405</td>\n",
              "      <td>150479240</td>\n",
              "      <td>0.0</td>\n",
              "      <td>1.0</td>\n",
              "    </tr>\n",
              "    <tr>\n",
              "      <th>4</th>\n",
              "      <td>AAPL</td>\n",
              "      <td>2018-09-10 00:00:00+00:00</td>\n",
              "      <td>218.33</td>\n",
              "      <td>221.85</td>\n",
              "      <td>216.47</td>\n",
              "      <td>220.95</td>\n",
              "      <td>39516453</td>\n",
              "      <td>52.271661</td>\n",
              "      <td>53.114405</td>\n",
              "      <td>51.826348</td>\n",
              "      <td>52.898931</td>\n",
              "      <td>158065812</td>\n",
              "      <td>0.0</td>\n",
              "      <td>1.0</td>\n",
              "    </tr>\n",
              "  </tbody>\n",
              "</table>\n",
              "</div>\n",
              "    <div class=\"colab-df-buttons\">\n",
              "\n",
              "  <div class=\"colab-df-container\">\n",
              "    <button class=\"colab-df-convert\" onclick=\"convertToInteractive('df-b350b2b8-99f6-45e9-8214-8911e123bce2')\"\n",
              "            title=\"Convert this dataframe to an interactive table.\"\n",
              "            style=\"display:none;\">\n",
              "\n",
              "  <svg xmlns=\"http://www.w3.org/2000/svg\" height=\"24px\" viewBox=\"0 -960 960 960\">\n",
              "    <path d=\"M120-120v-720h720v720H120Zm60-500h600v-160H180v160Zm220 220h160v-160H400v160Zm0 220h160v-160H400v160ZM180-400h160v-160H180v160Zm440 0h160v-160H620v160ZM180-180h160v-160H180v160Zm440 0h160v-160H620v160Z\"/>\n",
              "  </svg>\n",
              "    </button>\n",
              "\n",
              "  <style>\n",
              "    .colab-df-container {\n",
              "      display:flex;\n",
              "      gap: 12px;\n",
              "    }\n",
              "\n",
              "    .colab-df-convert {\n",
              "      background-color: #E8F0FE;\n",
              "      border: none;\n",
              "      border-radius: 50%;\n",
              "      cursor: pointer;\n",
              "      display: none;\n",
              "      fill: #1967D2;\n",
              "      height: 32px;\n",
              "      padding: 0 0 0 0;\n",
              "      width: 32px;\n",
              "    }\n",
              "\n",
              "    .colab-df-convert:hover {\n",
              "      background-color: #E2EBFA;\n",
              "      box-shadow: 0px 1px 2px rgba(60, 64, 67, 0.3), 0px 1px 3px 1px rgba(60, 64, 67, 0.15);\n",
              "      fill: #174EA6;\n",
              "    }\n",
              "\n",
              "    .colab-df-buttons div {\n",
              "      margin-bottom: 4px;\n",
              "    }\n",
              "\n",
              "    [theme=dark] .colab-df-convert {\n",
              "      background-color: #3B4455;\n",
              "      fill: #D2E3FC;\n",
              "    }\n",
              "\n",
              "    [theme=dark] .colab-df-convert:hover {\n",
              "      background-color: #434B5C;\n",
              "      box-shadow: 0px 1px 3px 1px rgba(0, 0, 0, 0.15);\n",
              "      filter: drop-shadow(0px 1px 2px rgba(0, 0, 0, 0.3));\n",
              "      fill: #FFFFFF;\n",
              "    }\n",
              "  </style>\n",
              "\n",
              "    <script>\n",
              "      const buttonEl =\n",
              "        document.querySelector('#df-b350b2b8-99f6-45e9-8214-8911e123bce2 button.colab-df-convert');\n",
              "      buttonEl.style.display =\n",
              "        google.colab.kernel.accessAllowed ? 'block' : 'none';\n",
              "\n",
              "      async function convertToInteractive(key) {\n",
              "        const element = document.querySelector('#df-b350b2b8-99f6-45e9-8214-8911e123bce2');\n",
              "        const dataTable =\n",
              "          await google.colab.kernel.invokeFunction('convertToInteractive',\n",
              "                                                    [key], {});\n",
              "        if (!dataTable) return;\n",
              "\n",
              "        const docLinkHtml = 'Like what you see? Visit the ' +\n",
              "          '<a target=\"_blank\" href=https://colab.research.google.com/notebooks/data_table.ipynb>data table notebook</a>'\n",
              "          + ' to learn more about interactive tables.';\n",
              "        element.innerHTML = '';\n",
              "        dataTable['output_type'] = 'display_data';\n",
              "        await google.colab.output.renderOutput(dataTable, element);\n",
              "        const docLink = document.createElement('div');\n",
              "        docLink.innerHTML = docLinkHtml;\n",
              "        element.appendChild(docLink);\n",
              "      }\n",
              "    </script>\n",
              "  </div>\n",
              "\n",
              "\n",
              "<div id=\"df-86f2e583-d99c-44ba-9982-79752e715812\">\n",
              "  <button class=\"colab-df-quickchart\" onclick=\"quickchart('df-86f2e583-d99c-44ba-9982-79752e715812')\"\n",
              "            title=\"Suggest charts.\"\n",
              "            style=\"display:none;\">\n",
              "\n",
              "<svg xmlns=\"http://www.w3.org/2000/svg\" height=\"24px\"viewBox=\"0 0 24 24\"\n",
              "     width=\"24px\">\n",
              "    <g>\n",
              "        <path d=\"M19 3H5c-1.1 0-2 .9-2 2v14c0 1.1.9 2 2 2h14c1.1 0 2-.9 2-2V5c0-1.1-.9-2-2-2zM9 17H7v-7h2v7zm4 0h-2V7h2v10zm4 0h-2v-4h2v4z\"/>\n",
              "    </g>\n",
              "</svg>\n",
              "  </button>\n",
              "\n",
              "<style>\n",
              "  .colab-df-quickchart {\n",
              "      --bg-color: #E8F0FE;\n",
              "      --fill-color: #1967D2;\n",
              "      --hover-bg-color: #E2EBFA;\n",
              "      --hover-fill-color: #174EA6;\n",
              "      --disabled-fill-color: #AAA;\n",
              "      --disabled-bg-color: #DDD;\n",
              "  }\n",
              "\n",
              "  [theme=dark] .colab-df-quickchart {\n",
              "      --bg-color: #3B4455;\n",
              "      --fill-color: #D2E3FC;\n",
              "      --hover-bg-color: #434B5C;\n",
              "      --hover-fill-color: #FFFFFF;\n",
              "      --disabled-bg-color: #3B4455;\n",
              "      --disabled-fill-color: #666;\n",
              "  }\n",
              "\n",
              "  .colab-df-quickchart {\n",
              "    background-color: var(--bg-color);\n",
              "    border: none;\n",
              "    border-radius: 50%;\n",
              "    cursor: pointer;\n",
              "    display: none;\n",
              "    fill: var(--fill-color);\n",
              "    height: 32px;\n",
              "    padding: 0;\n",
              "    width: 32px;\n",
              "  }\n",
              "\n",
              "  .colab-df-quickchart:hover {\n",
              "    background-color: var(--hover-bg-color);\n",
              "    box-shadow: 0 1px 2px rgba(60, 64, 67, 0.3), 0 1px 3px 1px rgba(60, 64, 67, 0.15);\n",
              "    fill: var(--button-hover-fill-color);\n",
              "  }\n",
              "\n",
              "  .colab-df-quickchart-complete:disabled,\n",
              "  .colab-df-quickchart-complete:disabled:hover {\n",
              "    background-color: var(--disabled-bg-color);\n",
              "    fill: var(--disabled-fill-color);\n",
              "    box-shadow: none;\n",
              "  }\n",
              "\n",
              "  .colab-df-spinner {\n",
              "    border: 2px solid var(--fill-color);\n",
              "    border-color: transparent;\n",
              "    border-bottom-color: var(--fill-color);\n",
              "    animation:\n",
              "      spin 1s steps(1) infinite;\n",
              "  }\n",
              "\n",
              "  @keyframes spin {\n",
              "    0% {\n",
              "      border-color: transparent;\n",
              "      border-bottom-color: var(--fill-color);\n",
              "      border-left-color: var(--fill-color);\n",
              "    }\n",
              "    20% {\n",
              "      border-color: transparent;\n",
              "      border-left-color: var(--fill-color);\n",
              "      border-top-color: var(--fill-color);\n",
              "    }\n",
              "    30% {\n",
              "      border-color: transparent;\n",
              "      border-left-color: var(--fill-color);\n",
              "      border-top-color: var(--fill-color);\n",
              "      border-right-color: var(--fill-color);\n",
              "    }\n",
              "    40% {\n",
              "      border-color: transparent;\n",
              "      border-right-color: var(--fill-color);\n",
              "      border-top-color: var(--fill-color);\n",
              "    }\n",
              "    60% {\n",
              "      border-color: transparent;\n",
              "      border-right-color: var(--fill-color);\n",
              "    }\n",
              "    80% {\n",
              "      border-color: transparent;\n",
              "      border-right-color: var(--fill-color);\n",
              "      border-bottom-color: var(--fill-color);\n",
              "    }\n",
              "    90% {\n",
              "      border-color: transparent;\n",
              "      border-bottom-color: var(--fill-color);\n",
              "    }\n",
              "  }\n",
              "</style>\n",
              "\n",
              "  <script>\n",
              "    async function quickchart(key) {\n",
              "      const quickchartButtonEl =\n",
              "        document.querySelector('#' + key + ' button');\n",
              "      quickchartButtonEl.disabled = true;  // To prevent multiple clicks.\n",
              "      quickchartButtonEl.classList.add('colab-df-spinner');\n",
              "      try {\n",
              "        const charts = await google.colab.kernel.invokeFunction(\n",
              "            'suggestCharts', [key], {});\n",
              "      } catch (error) {\n",
              "        console.error('Error during call to suggestCharts:', error);\n",
              "      }\n",
              "      quickchartButtonEl.classList.remove('colab-df-spinner');\n",
              "      quickchartButtonEl.classList.add('colab-df-quickchart-complete');\n",
              "    }\n",
              "    (() => {\n",
              "      let quickchartButtonEl =\n",
              "        document.querySelector('#df-86f2e583-d99c-44ba-9982-79752e715812 button');\n",
              "      quickchartButtonEl.style.display =\n",
              "        google.colab.kernel.accessAllowed ? 'block' : 'none';\n",
              "    })();\n",
              "  </script>\n",
              "</div>\n",
              "    </div>\n",
              "  </div>\n"
            ]
          },
          "metadata": {},
          "execution_count": 182
        }
      ]
    },
    {
      "cell_type": "code",
      "source": [
        "df.tail()\n",
        "#till date 31/08/2023"
      ],
      "metadata": {
        "colab": {
          "base_uri": "https://localhost:8080/",
          "height": 206
        },
        "id": "ysFLaNOiOCf_",
        "outputId": "476ab11c-3348-446c-ea97-eb54ab4bff3a"
      },
      "execution_count": 183,
      "outputs": [
        {
          "output_type": "execute_result",
          "data": {
            "text/plain": [
              "     symbol                       date   close    high      low     open  \\\n",
              "1252   AAPL  2023-08-25 00:00:00+00:00  178.61  179.15  175.820  177.380   \n",
              "1253   AAPL  2023-08-28 00:00:00+00:00  180.19  180.59  178.545  180.090   \n",
              "1254   AAPL  2023-08-29 00:00:00+00:00  184.12  184.90  179.500  179.695   \n",
              "1255   AAPL  2023-08-30 00:00:00+00:00  187.65  187.85  184.740  184.940   \n",
              "1256   AAPL  2023-08-31 00:00:00+00:00  187.87  189.12  187.480  187.840   \n",
              "\n",
              "        volume  adjClose  adjHigh   adjLow  adjOpen  adjVolume  divCash  \\\n",
              "1252  51449594    178.61   179.15  175.820  177.380   51449594      0.0   \n",
              "1253  43820697    180.19   180.59  178.545  180.090   43820697      0.0   \n",
              "1254  53003948    184.12   184.90  179.500  179.695   53003948      0.0   \n",
              "1255  60813888    187.65   187.85  184.740  184.940   60813888      0.0   \n",
              "1256  60794467    187.87   189.12  187.480  187.840   60794467      0.0   \n",
              "\n",
              "      splitFactor  \n",
              "1252          1.0  \n",
              "1253          1.0  \n",
              "1254          1.0  \n",
              "1255          1.0  \n",
              "1256          1.0  "
            ],
            "text/html": [
              "\n",
              "  <div id=\"df-d445b612-abc1-4002-873d-eff6b0305b8d\" class=\"colab-df-container\">\n",
              "    <div>\n",
              "<style scoped>\n",
              "    .dataframe tbody tr th:only-of-type {\n",
              "        vertical-align: middle;\n",
              "    }\n",
              "\n",
              "    .dataframe tbody tr th {\n",
              "        vertical-align: top;\n",
              "    }\n",
              "\n",
              "    .dataframe thead th {\n",
              "        text-align: right;\n",
              "    }\n",
              "</style>\n",
              "<table border=\"1\" class=\"dataframe\">\n",
              "  <thead>\n",
              "    <tr style=\"text-align: right;\">\n",
              "      <th></th>\n",
              "      <th>symbol</th>\n",
              "      <th>date</th>\n",
              "      <th>close</th>\n",
              "      <th>high</th>\n",
              "      <th>low</th>\n",
              "      <th>open</th>\n",
              "      <th>volume</th>\n",
              "      <th>adjClose</th>\n",
              "      <th>adjHigh</th>\n",
              "      <th>adjLow</th>\n",
              "      <th>adjOpen</th>\n",
              "      <th>adjVolume</th>\n",
              "      <th>divCash</th>\n",
              "      <th>splitFactor</th>\n",
              "    </tr>\n",
              "  </thead>\n",
              "  <tbody>\n",
              "    <tr>\n",
              "      <th>1252</th>\n",
              "      <td>AAPL</td>\n",
              "      <td>2023-08-25 00:00:00+00:00</td>\n",
              "      <td>178.61</td>\n",
              "      <td>179.15</td>\n",
              "      <td>175.820</td>\n",
              "      <td>177.380</td>\n",
              "      <td>51449594</td>\n",
              "      <td>178.61</td>\n",
              "      <td>179.15</td>\n",
              "      <td>175.820</td>\n",
              "      <td>177.380</td>\n",
              "      <td>51449594</td>\n",
              "      <td>0.0</td>\n",
              "      <td>1.0</td>\n",
              "    </tr>\n",
              "    <tr>\n",
              "      <th>1253</th>\n",
              "      <td>AAPL</td>\n",
              "      <td>2023-08-28 00:00:00+00:00</td>\n",
              "      <td>180.19</td>\n",
              "      <td>180.59</td>\n",
              "      <td>178.545</td>\n",
              "      <td>180.090</td>\n",
              "      <td>43820697</td>\n",
              "      <td>180.19</td>\n",
              "      <td>180.59</td>\n",
              "      <td>178.545</td>\n",
              "      <td>180.090</td>\n",
              "      <td>43820697</td>\n",
              "      <td>0.0</td>\n",
              "      <td>1.0</td>\n",
              "    </tr>\n",
              "    <tr>\n",
              "      <th>1254</th>\n",
              "      <td>AAPL</td>\n",
              "      <td>2023-08-29 00:00:00+00:00</td>\n",
              "      <td>184.12</td>\n",
              "      <td>184.90</td>\n",
              "      <td>179.500</td>\n",
              "      <td>179.695</td>\n",
              "      <td>53003948</td>\n",
              "      <td>184.12</td>\n",
              "      <td>184.90</td>\n",
              "      <td>179.500</td>\n",
              "      <td>179.695</td>\n",
              "      <td>53003948</td>\n",
              "      <td>0.0</td>\n",
              "      <td>1.0</td>\n",
              "    </tr>\n",
              "    <tr>\n",
              "      <th>1255</th>\n",
              "      <td>AAPL</td>\n",
              "      <td>2023-08-30 00:00:00+00:00</td>\n",
              "      <td>187.65</td>\n",
              "      <td>187.85</td>\n",
              "      <td>184.740</td>\n",
              "      <td>184.940</td>\n",
              "      <td>60813888</td>\n",
              "      <td>187.65</td>\n",
              "      <td>187.85</td>\n",
              "      <td>184.740</td>\n",
              "      <td>184.940</td>\n",
              "      <td>60813888</td>\n",
              "      <td>0.0</td>\n",
              "      <td>1.0</td>\n",
              "    </tr>\n",
              "    <tr>\n",
              "      <th>1256</th>\n",
              "      <td>AAPL</td>\n",
              "      <td>2023-08-31 00:00:00+00:00</td>\n",
              "      <td>187.87</td>\n",
              "      <td>189.12</td>\n",
              "      <td>187.480</td>\n",
              "      <td>187.840</td>\n",
              "      <td>60794467</td>\n",
              "      <td>187.87</td>\n",
              "      <td>189.12</td>\n",
              "      <td>187.480</td>\n",
              "      <td>187.840</td>\n",
              "      <td>60794467</td>\n",
              "      <td>0.0</td>\n",
              "      <td>1.0</td>\n",
              "    </tr>\n",
              "  </tbody>\n",
              "</table>\n",
              "</div>\n",
              "    <div class=\"colab-df-buttons\">\n",
              "\n",
              "  <div class=\"colab-df-container\">\n",
              "    <button class=\"colab-df-convert\" onclick=\"convertToInteractive('df-d445b612-abc1-4002-873d-eff6b0305b8d')\"\n",
              "            title=\"Convert this dataframe to an interactive table.\"\n",
              "            style=\"display:none;\">\n",
              "\n",
              "  <svg xmlns=\"http://www.w3.org/2000/svg\" height=\"24px\" viewBox=\"0 -960 960 960\">\n",
              "    <path d=\"M120-120v-720h720v720H120Zm60-500h600v-160H180v160Zm220 220h160v-160H400v160Zm0 220h160v-160H400v160ZM180-400h160v-160H180v160Zm440 0h160v-160H620v160ZM180-180h160v-160H180v160Zm440 0h160v-160H620v160Z\"/>\n",
              "  </svg>\n",
              "    </button>\n",
              "\n",
              "  <style>\n",
              "    .colab-df-container {\n",
              "      display:flex;\n",
              "      gap: 12px;\n",
              "    }\n",
              "\n",
              "    .colab-df-convert {\n",
              "      background-color: #E8F0FE;\n",
              "      border: none;\n",
              "      border-radius: 50%;\n",
              "      cursor: pointer;\n",
              "      display: none;\n",
              "      fill: #1967D2;\n",
              "      height: 32px;\n",
              "      padding: 0 0 0 0;\n",
              "      width: 32px;\n",
              "    }\n",
              "\n",
              "    .colab-df-convert:hover {\n",
              "      background-color: #E2EBFA;\n",
              "      box-shadow: 0px 1px 2px rgba(60, 64, 67, 0.3), 0px 1px 3px 1px rgba(60, 64, 67, 0.15);\n",
              "      fill: #174EA6;\n",
              "    }\n",
              "\n",
              "    .colab-df-buttons div {\n",
              "      margin-bottom: 4px;\n",
              "    }\n",
              "\n",
              "    [theme=dark] .colab-df-convert {\n",
              "      background-color: #3B4455;\n",
              "      fill: #D2E3FC;\n",
              "    }\n",
              "\n",
              "    [theme=dark] .colab-df-convert:hover {\n",
              "      background-color: #434B5C;\n",
              "      box-shadow: 0px 1px 3px 1px rgba(0, 0, 0, 0.15);\n",
              "      filter: drop-shadow(0px 1px 2px rgba(0, 0, 0, 0.3));\n",
              "      fill: #FFFFFF;\n",
              "    }\n",
              "  </style>\n",
              "\n",
              "    <script>\n",
              "      const buttonEl =\n",
              "        document.querySelector('#df-d445b612-abc1-4002-873d-eff6b0305b8d button.colab-df-convert');\n",
              "      buttonEl.style.display =\n",
              "        google.colab.kernel.accessAllowed ? 'block' : 'none';\n",
              "\n",
              "      async function convertToInteractive(key) {\n",
              "        const element = document.querySelector('#df-d445b612-abc1-4002-873d-eff6b0305b8d');\n",
              "        const dataTable =\n",
              "          await google.colab.kernel.invokeFunction('convertToInteractive',\n",
              "                                                    [key], {});\n",
              "        if (!dataTable) return;\n",
              "\n",
              "        const docLinkHtml = 'Like what you see? Visit the ' +\n",
              "          '<a target=\"_blank\" href=https://colab.research.google.com/notebooks/data_table.ipynb>data table notebook</a>'\n",
              "          + ' to learn more about interactive tables.';\n",
              "        element.innerHTML = '';\n",
              "        dataTable['output_type'] = 'display_data';\n",
              "        await google.colab.output.renderOutput(dataTable, element);\n",
              "        const docLink = document.createElement('div');\n",
              "        docLink.innerHTML = docLinkHtml;\n",
              "        element.appendChild(docLink);\n",
              "      }\n",
              "    </script>\n",
              "  </div>\n",
              "\n",
              "\n",
              "<div id=\"df-1338407a-c571-48bc-893f-a874c677ed8a\">\n",
              "  <button class=\"colab-df-quickchart\" onclick=\"quickchart('df-1338407a-c571-48bc-893f-a874c677ed8a')\"\n",
              "            title=\"Suggest charts.\"\n",
              "            style=\"display:none;\">\n",
              "\n",
              "<svg xmlns=\"http://www.w3.org/2000/svg\" height=\"24px\"viewBox=\"0 0 24 24\"\n",
              "     width=\"24px\">\n",
              "    <g>\n",
              "        <path d=\"M19 3H5c-1.1 0-2 .9-2 2v14c0 1.1.9 2 2 2h14c1.1 0 2-.9 2-2V5c0-1.1-.9-2-2-2zM9 17H7v-7h2v7zm4 0h-2V7h2v10zm4 0h-2v-4h2v4z\"/>\n",
              "    </g>\n",
              "</svg>\n",
              "  </button>\n",
              "\n",
              "<style>\n",
              "  .colab-df-quickchart {\n",
              "      --bg-color: #E8F0FE;\n",
              "      --fill-color: #1967D2;\n",
              "      --hover-bg-color: #E2EBFA;\n",
              "      --hover-fill-color: #174EA6;\n",
              "      --disabled-fill-color: #AAA;\n",
              "      --disabled-bg-color: #DDD;\n",
              "  }\n",
              "\n",
              "  [theme=dark] .colab-df-quickchart {\n",
              "      --bg-color: #3B4455;\n",
              "      --fill-color: #D2E3FC;\n",
              "      --hover-bg-color: #434B5C;\n",
              "      --hover-fill-color: #FFFFFF;\n",
              "      --disabled-bg-color: #3B4455;\n",
              "      --disabled-fill-color: #666;\n",
              "  }\n",
              "\n",
              "  .colab-df-quickchart {\n",
              "    background-color: var(--bg-color);\n",
              "    border: none;\n",
              "    border-radius: 50%;\n",
              "    cursor: pointer;\n",
              "    display: none;\n",
              "    fill: var(--fill-color);\n",
              "    height: 32px;\n",
              "    padding: 0;\n",
              "    width: 32px;\n",
              "  }\n",
              "\n",
              "  .colab-df-quickchart:hover {\n",
              "    background-color: var(--hover-bg-color);\n",
              "    box-shadow: 0 1px 2px rgba(60, 64, 67, 0.3), 0 1px 3px 1px rgba(60, 64, 67, 0.15);\n",
              "    fill: var(--button-hover-fill-color);\n",
              "  }\n",
              "\n",
              "  .colab-df-quickchart-complete:disabled,\n",
              "  .colab-df-quickchart-complete:disabled:hover {\n",
              "    background-color: var(--disabled-bg-color);\n",
              "    fill: var(--disabled-fill-color);\n",
              "    box-shadow: none;\n",
              "  }\n",
              "\n",
              "  .colab-df-spinner {\n",
              "    border: 2px solid var(--fill-color);\n",
              "    border-color: transparent;\n",
              "    border-bottom-color: var(--fill-color);\n",
              "    animation:\n",
              "      spin 1s steps(1) infinite;\n",
              "  }\n",
              "\n",
              "  @keyframes spin {\n",
              "    0% {\n",
              "      border-color: transparent;\n",
              "      border-bottom-color: var(--fill-color);\n",
              "      border-left-color: var(--fill-color);\n",
              "    }\n",
              "    20% {\n",
              "      border-color: transparent;\n",
              "      border-left-color: var(--fill-color);\n",
              "      border-top-color: var(--fill-color);\n",
              "    }\n",
              "    30% {\n",
              "      border-color: transparent;\n",
              "      border-left-color: var(--fill-color);\n",
              "      border-top-color: var(--fill-color);\n",
              "      border-right-color: var(--fill-color);\n",
              "    }\n",
              "    40% {\n",
              "      border-color: transparent;\n",
              "      border-right-color: var(--fill-color);\n",
              "      border-top-color: var(--fill-color);\n",
              "    }\n",
              "    60% {\n",
              "      border-color: transparent;\n",
              "      border-right-color: var(--fill-color);\n",
              "    }\n",
              "    80% {\n",
              "      border-color: transparent;\n",
              "      border-right-color: var(--fill-color);\n",
              "      border-bottom-color: var(--fill-color);\n",
              "    }\n",
              "    90% {\n",
              "      border-color: transparent;\n",
              "      border-bottom-color: var(--fill-color);\n",
              "    }\n",
              "  }\n",
              "</style>\n",
              "\n",
              "  <script>\n",
              "    async function quickchart(key) {\n",
              "      const quickchartButtonEl =\n",
              "        document.querySelector('#' + key + ' button');\n",
              "      quickchartButtonEl.disabled = true;  // To prevent multiple clicks.\n",
              "      quickchartButtonEl.classList.add('colab-df-spinner');\n",
              "      try {\n",
              "        const charts = await google.colab.kernel.invokeFunction(\n",
              "            'suggestCharts', [key], {});\n",
              "      } catch (error) {\n",
              "        console.error('Error during call to suggestCharts:', error);\n",
              "      }\n",
              "      quickchartButtonEl.classList.remove('colab-df-spinner');\n",
              "      quickchartButtonEl.classList.add('colab-df-quickchart-complete');\n",
              "    }\n",
              "    (() => {\n",
              "      let quickchartButtonEl =\n",
              "        document.querySelector('#df-1338407a-c571-48bc-893f-a874c677ed8a button');\n",
              "      quickchartButtonEl.style.display =\n",
              "        google.colab.kernel.accessAllowed ? 'block' : 'none';\n",
              "    })();\n",
              "  </script>\n",
              "</div>\n",
              "    </div>\n",
              "  </div>\n"
            ]
          },
          "metadata": {},
          "execution_count": 183
        }
      ]
    },
    {
      "cell_type": "code",
      "source": [
        "df1 = df.reset_index()['close']"
      ],
      "metadata": {
        "id": "qga8yb28OceD"
      },
      "execution_count": 184,
      "outputs": []
    },
    {
      "cell_type": "code",
      "source": [
        "df1.shape"
      ],
      "metadata": {
        "colab": {
          "base_uri": "https://localhost:8080/"
        },
        "id": "5IaYUXrCOiie",
        "outputId": "8504365b-5c56-40af-a6f9-710bab66d669"
      },
      "execution_count": 185,
      "outputs": [
        {
          "output_type": "execute_result",
          "data": {
            "text/plain": [
              "(1257,)"
            ]
          },
          "metadata": {},
          "execution_count": 185
        }
      ]
    },
    {
      "cell_type": "code",
      "source": [
        "import matplotlib.pyplot as plt\n",
        "plt.plot(df1)"
      ],
      "metadata": {
        "colab": {
          "base_uri": "https://localhost:8080/",
          "height": 447
        },
        "id": "AsN00Q0tOjfG",
        "outputId": "f9836bcf-b2fc-4c9b-a7a0-5dd047318bfe"
      },
      "execution_count": 186,
      "outputs": [
        {
          "output_type": "execute_result",
          "data": {
            "text/plain": [
              "[<matplotlib.lines.Line2D at 0x7fd6bbcb76a0>]"
            ]
          },
          "metadata": {},
          "execution_count": 186
        },
        {
          "output_type": "display_data",
          "data": {
            "text/plain": [
              "<Figure size 640x480 with 1 Axes>"
            ],
            "image/png": "[encoded data removed]"
          },
          "metadata": {}
        }
      ]
    },
    {
      "cell_type": "code",
      "source": [
        "import numpy as np"
      ],
      "metadata": {
        "id": "_49nrNjfOrP1"
      },
      "execution_count": 187,
      "outputs": []
    },
    {
      "cell_type": "code",
      "source": [
        "#since LSTM are sensitive to the scale of the data, we will apply MinMax scaler\n",
        "\n",
        "from sklearn.preprocessing import MinMaxScaler\n",
        "scaler = MinMaxScaler(feature_range = (0,1))\n",
        "df1 = scaler.fit_transform(np.array(df1).reshape(-1,1))"
      ],
      "metadata": {
        "id": "58zP0wAjOyu4"
      },
      "execution_count": 188,
      "outputs": []
    },
    {
      "cell_type": "code",
      "source": [
        "df1.shape"
      ],
      "metadata": {
        "colab": {
          "base_uri": "https://localhost:8080/"
        },
        "id": "tKC6RtnOPFLD",
        "outputId": "13d7dfd1-eba9-4736-816c-ba85e53c6304"
      },
      "execution_count": 189,
      "outputs": [
        {
          "output_type": "execute_result",
          "data": {
            "text/plain": [
              "(1257, 1)"
            ]
          },
          "metadata": {},
          "execution_count": 189
        }
      ]
    },
    {
      "cell_type": "code",
      "source": [
        "#splitting dataset into train and test\n",
        "#since it was a time series data hence we will not have random split, we will split according to the dates\n",
        "training_size = int(len(df1)*0.65)\n",
        "test_size = len(df1) - training_size\n",
        "train_data, test_data = df1[0:training_size, :], df1[training_size:len(df1), :]"
      ],
      "metadata": {
        "id": "f-0Dz6t3PF_G"
      },
      "execution_count": 190,
      "outputs": []
    },
    {
      "cell_type": "code",
      "source": [
        "training_size, test_size"
      ],
      "metadata": {
        "colab": {
          "base_uri": "https://localhost:8080/"
        },
        "id": "NF7mAEGklIZD",
        "outputId": "ac9cc1d8-0009-4921-efdb-d25114ad5811"
      },
      "execution_count": 191,
      "outputs": [
        {
          "output_type": "execute_result",
          "data": {
            "text/plain": [
              "(817, 440)"
            ]
          },
          "metadata": {},
          "execution_count": 191
        }
      ]
    },
    {
      "cell_type": "code",
      "source": [
        "def create_dataset(dataset, time_step = 1):\n",
        "  dataX, dataY = [], []\n",
        "  for i in range(len(dataset) - time_step):\n",
        "    a = dataset[i:(i+time_step), 0]\n",
        "    dataX.append(a)\n",
        "    dataY.append(dataset[i + time_step, 0])\n",
        "  return np.array(dataX), np.array(dataY)\n",
        "\n",
        "#time_step = 2\n",
        "#dataset = 120, 130, 140, 145, 156\n",
        "#Input = 120, 130 | Output = 140\n",
        "#Input = 130, 140 | Output = 145\n",
        "#Input = 140, 145 | Output = 156"
      ],
      "metadata": {
        "id": "4bwLfQaglPwU"
      },
      "execution_count": 192,
      "outputs": []
    },
    {
      "cell_type": "code",
      "source": [
        "#reshape data\n",
        "\n",
        "time_step = 100\n",
        "X_train, y_train = create_dataset(train_data, time_step)\n",
        "X_test, y_test = create_dataset(test_data, time_step)"
      ],
      "metadata": {
        "id": "hGpr6a2WmAWh"
      },
      "execution_count": 193,
      "outputs": []
    },
    {
      "cell_type": "code",
      "source": [
        "X_train"
      ],
      "metadata": {
        "colab": {
          "base_uri": "https://localhost:8080/"
        },
        "id": "5T4A7OE-msKl",
        "outputId": "ac7dea4a-1e08-4a34-e5e0-6c0e1d5e8b88"
      },
      "execution_count": 194,
      "outputs": [
        {
          "output_type": "execute_result",
          "data": {
            "text/plain": [
              "array([[0.3043707 , 0.3006387 , 0.29119599, ..., 0.11486537, 0.12753914,\n",
              "        0.12388228],\n",
              "       [0.3006387 , 0.29119599, 0.28668754, ..., 0.12753914, 0.12388228,\n",
              "        0.11982467],\n",
              "       [0.29119599, 0.28668754, 0.27924859, ..., 0.12388228, 0.11982467,\n",
              "        0.14629931],\n",
              "       ...,\n",
              "       [0.09450219, 0.09117095, 0.09585473, ..., 0.13570445, 0.13668128,\n",
              "        0.13800877],\n",
              "       [0.09117095, 0.09585473, 0.09432686, ..., 0.13668128, 0.13800877,\n",
              "        0.12515967],\n",
              "       [0.09585473, 0.09432686, 0.09718222, ..., 0.13800877, 0.12515967,\n",
              "        0.13375078]])"
            ]
          },
          "metadata": {},
          "execution_count": 194
        }
      ]
    },
    {
      "cell_type": "code",
      "source": [
        "X_train.shape, y_train.shape"
      ],
      "metadata": {
        "colab": {
          "base_uri": "https://localhost:8080/"
        },
        "id": "fi1GzxZVmvxC",
        "outputId": "281969f4-a11d-41a0-b9b3-864a9efe91e6"
      },
      "execution_count": 195,
      "outputs": [
        {
          "output_type": "execute_result",
          "data": {
            "text/plain": [
              "((717, 100), (717,))"
            ]
          },
          "metadata": {},
          "execution_count": 195
        }
      ]
    },
    {
      "cell_type": "code",
      "source": [
        "X_test.shape, y_test.shape"
      ],
      "metadata": {
        "colab": {
          "base_uri": "https://localhost:8080/"
        },
        "id": "kgHJp1qFmxwj",
        "outputId": "4a1e6fc0-4fb9-493a-aafe-cb0d24a1451d"
      },
      "execution_count": 196,
      "outputs": [
        {
          "output_type": "execute_result",
          "data": {
            "text/plain": [
              "((340, 100), (340,))"
            ]
          },
          "metadata": {},
          "execution_count": 196
        }
      ]
    },
    {
      "cell_type": "markdown",
      "source": [
        "Creating a stacked LSTM model"
      ],
      "metadata": {
        "id": "5j5CZUD1nTl0"
      }
    },
    {
      "cell_type": "code",
      "source": [
        "#reshaping into 3 dimensions for LSTM\n",
        "X_train = X_train.reshape(X_train.shape[0], X_train.shape[1], 1)\n",
        "X_test = X_test.reshape(X_test.shape[0], X_test.shape[1], 1)"
      ],
      "metadata": {
        "id": "QmjiJv_dm7jm"
      },
      "execution_count": 197,
      "outputs": []
    },
    {
      "cell_type": "code",
      "source": [
        "#Creating LSTM model\n",
        "from tensorflow.keras.models import Sequential\n",
        "from tensorflow.keras.layers import Dense\n",
        "from tensorflow.keras.layers import LSTM"
      ],
      "metadata": {
        "id": "eX6eRQtFnmVk"
      },
      "execution_count": 198,
      "outputs": []
    },
    {
      "cell_type": "code",
      "source": [
        "model = Sequential()\n",
        "model.add(LSTM(50, return_sequences = True, input_shape = (100,1)))\n",
        "model.add(LSTM(50, return_sequences = True))\n",
        "model.add(LSTM(50))\n",
        "model.add(Dense(1))\n",
        "model.compile(loss = 'mean_squared_error', optimizer = 'adam')"
      ],
      "metadata": {
        "id": "4yZlj616nyQt"
      },
      "execution_count": 199,
      "outputs": []
    },
    {
      "cell_type": "code",
      "source": [
        "model.summary()"
      ],
      "metadata": {
        "colab": {
          "base_uri": "https://localhost:8080/"
        },
        "id": "Rd8CHq3foHeO",
        "outputId": "470f71b0-f6bf-4e9d-c437-4e07714cead1"
      },
      "execution_count": 200,
      "outputs": [
        {
          "output_type": "stream",
          "name": "stdout",
          "text": [
            "Model: \"sequential_4\"\n",
            "_________________________________________________________________\n",
            " Layer (type)                Output Shape              Param #   \n",
            "=================================================================\n",
            " lstm_12 (LSTM)              (None, 100, 50)           10400     \n",
            "                                                                 \n",
            " lstm_13 (LSTM)              (None, 100, 50)           20200     \n",
            "                                                                 \n",
            " lstm_14 (LSTM)              (None, 50)                20200     \n",
            "                                                                 \n",
            " dense_4 (Dense)             (None, 1)                 51        \n",
            "                                                                 \n",
            "=================================================================\n",
            "Total params: 50,851\n",
            "Trainable params: 50,851\n",
            "Non-trainable params: 0\n",
            "_________________________________________________________________\n"
          ]
        }
      ]
    },
    {
      "cell_type": "code",
      "source": [
        "model.fit(X_train, y_train, validation_data = (X_test, y_test), epochs = 100, batch_size = 64, verbose = 1)"
      ],
      "metadata": {
        "colab": {
          "base_uri": "https://localhost:8080/"
        },
        "id": "9MwRmAJIoOCX",
        "outputId": "5c691da5-f3c4-4acf-ba89-6e0c29f6a45a"
      },
      "execution_count": 201,
      "outputs": [
        {
          "output_type": "stream",
          "name": "stdout",
          "text": [
            "Epoch 1/100\n",
            "12/12 [==============================] - 9s 132ms/step - loss: 0.0482 - val_loss: 0.0019\n",
            "Epoch 2/100\n",
            "12/12 [==============================] - 0s 25ms/step - loss: 0.0175 - val_loss: 0.0031\n",
            "Epoch 3/100\n",
            "12/12 [==============================] - 0s 21ms/step - loss: 0.0119 - val_loss: 5.9038e-04\n",
            "Epoch 4/100\n",
            "12/12 [==============================] - 0s 21ms/step - loss: 0.0106 - val_loss: 0.0013\n",
            "Epoch 5/100\n",
            "12/12 [==============================] - 0s 22ms/step - loss: 0.0100 - val_loss: 3.2923e-04\n",
            "Epoch 6/100\n",
            "12/12 [==============================] - 0s 22ms/step - loss: 0.0088 - val_loss: 3.6643e-04\n",
            "Epoch 7/100\n",
            "12/12 [==============================] - 0s 22ms/step - loss: 0.0082 - val_loss: 3.7638e-04\n",
            "Epoch 8/100\n",
            "12/12 [==============================] - 0s 22ms/step - loss: 0.0068 - val_loss: 5.9822e-04\n",
            "Epoch 9/100\n",
            "12/12 [==============================] - 0s 22ms/step - loss: 0.0064 - val_loss: 2.9954e-04\n",
            "Epoch 10/100\n",
            "12/12 [==============================] - 0s 23ms/step - loss: 0.0059 - val_loss: 2.5536e-04\n",
            "Epoch 11/100\n",
            "12/12 [==============================] - 0s 24ms/step - loss: 0.0081 - val_loss: 0.0034\n",
            "Epoch 12/100\n",
            "12/12 [==============================] - 0s 21ms/step - loss: 0.0065 - val_loss: 3.7665e-04\n",
            "Epoch 13/100\n",
            "12/12 [==============================] - 0s 22ms/step - loss: 0.0056 - val_loss: 0.0022\n",
            "Epoch 14/100\n",
            "12/12 [==============================] - 0s 24ms/step - loss: 0.0052 - val_loss: 4.4975e-04\n",
            "Epoch 15/100\n",
            "12/12 [==============================] - 0s 22ms/step - loss: 0.0042 - val_loss: 4.7987e-04\n",
            "Epoch 16/100\n",
            "12/12 [==============================] - 0s 21ms/step - loss: 0.0039 - val_loss: 2.4126e-04\n",
            "Epoch 17/100\n",
            "12/12 [==============================] - 0s 24ms/step - loss: 0.0041 - val_loss: 4.4904e-04\n",
            "Epoch 18/100\n",
            "12/12 [==============================] - 0s 22ms/step - loss: 0.0036 - val_loss: 2.4892e-04\n",
            "Epoch 19/100\n",
            "12/12 [==============================] - 0s 21ms/step - loss: 0.0035 - val_loss: 3.1492e-04\n",
            "Epoch 20/100\n",
            "12/12 [==============================] - 0s 20ms/step - loss: 0.0033 - val_loss: 2.9345e-04\n",
            "Epoch 21/100\n",
            "12/12 [==============================] - 0s 21ms/step - loss: 0.0032 - val_loss: 2.4372e-04\n",
            "Epoch 22/100\n",
            "12/12 [==============================] - 0s 23ms/step - loss: 0.0029 - val_loss: 2.1550e-04\n",
            "Epoch 23/100\n",
            "12/12 [==============================] - 0s 23ms/step - loss: 0.0028 - val_loss: 2.2151e-04\n",
            "Epoch 24/100\n",
            "12/12 [==============================] - 0s 20ms/step - loss: 0.0028 - val_loss: 2.3192e-04\n",
            "Epoch 25/100\n",
            "12/12 [==============================] - 0s 23ms/step - loss: 0.0027 - val_loss: 2.7164e-04\n",
            "Epoch 26/100\n",
            "12/12 [==============================] - 0s 22ms/step - loss: 0.0030 - val_loss: 2.0650e-04\n",
            "Epoch 27/100\n",
            "12/12 [==============================] - 0s 22ms/step - loss: 0.0027 - val_loss: 2.2742e-04\n",
            "Epoch 28/100\n",
            "12/12 [==============================] - 0s 23ms/step - loss: 0.0025 - val_loss: 3.4840e-04\n",
            "Epoch 29/100\n",
            "12/12 [==============================] - 0s 22ms/step - loss: 0.0024 - val_loss: 2.7194e-04\n",
            "Epoch 30/100\n",
            "12/12 [==============================] - 0s 23ms/step - loss: 0.0043 - val_loss: 2.8545e-04\n",
            "Epoch 31/100\n",
            "12/12 [==============================] - 0s 37ms/step - loss: 0.0048 - val_loss: 4.9023e-04\n",
            "Epoch 32/100\n",
            "12/12 [==============================] - 0s 40ms/step - loss: 0.0044 - val_loss: 2.1281e-04\n",
            "Epoch 33/100\n",
            "12/12 [==============================] - 0s 40ms/step - loss: 0.0031 - val_loss: 2.6317e-04\n",
            "Epoch 34/100\n",
            "12/12 [==============================] - 0s 41ms/step - loss: 0.0029 - val_loss: 4.6493e-04\n",
            "Epoch 35/100\n",
            "12/12 [==============================] - 1s 42ms/step - loss: 0.0037 - val_loss: 2.7158e-04\n",
            "Epoch 36/100\n",
            "12/12 [==============================] - 0s 40ms/step - loss: 0.0029 - val_loss: 2.0803e-04\n",
            "Epoch 37/100\n",
            "12/12 [==============================] - 1s 47ms/step - loss: 0.0021 - val_loss: 2.0261e-04\n",
            "Epoch 38/100\n",
            "12/12 [==============================] - 1s 47ms/step - loss: 0.0022 - val_loss: 1.8812e-04\n",
            "Epoch 39/100\n",
            "12/12 [==============================] - 0s 38ms/step - loss: 0.0021 - val_loss: 1.9063e-04\n",
            "Epoch 40/100\n",
            "12/12 [==============================] - 0s 24ms/step - loss: 0.0037 - val_loss: 2.6449e-04\n",
            "Epoch 41/100\n",
            "12/12 [==============================] - 0s 23ms/step - loss: 0.0032 - val_loss: 2.3434e-04\n",
            "Epoch 42/100\n",
            "12/12 [==============================] - 0s 22ms/step - loss: 0.0027 - val_loss: 3.1368e-04\n",
            "Epoch 43/100\n",
            "12/12 [==============================] - 0s 21ms/step - loss: 0.0022 - val_loss: 2.0951e-04\n",
            "Epoch 44/100\n",
            "12/12 [==============================] - 0s 22ms/step - loss: 0.0021 - val_loss: 1.8779e-04\n",
            "Epoch 45/100\n",
            "12/12 [==============================] - 0s 22ms/step - loss: 0.0019 - val_loss: 2.1667e-04\n",
            "Epoch 46/100\n",
            "12/12 [==============================] - 0s 21ms/step - loss: 0.0019 - val_loss: 2.5598e-04\n",
            "Epoch 47/100\n",
            "12/12 [==============================] - 0s 22ms/step - loss: 0.0018 - val_loss: 2.1942e-04\n",
            "Epoch 48/100\n",
            "12/12 [==============================] - 0s 21ms/step - loss: 0.0017 - val_loss: 2.1013e-04\n",
            "Epoch 49/100\n",
            "12/12 [==============================] - 0s 23ms/step - loss: 0.0019 - val_loss: 3.1246e-04\n",
            "Epoch 50/100\n",
            "12/12 [==============================] - 0s 21ms/step - loss: 0.0023 - val_loss: 2.3020e-04\n",
            "Epoch 51/100\n",
            "12/12 [==============================] - 0s 22ms/step - loss: 0.0020 - val_loss: 1.9855e-04\n",
            "Epoch 52/100\n",
            "12/12 [==============================] - 0s 24ms/step - loss: 0.0019 - val_loss: 1.9195e-04\n",
            "Epoch 53/100\n",
            "12/12 [==============================] - 0s 23ms/step - loss: 0.0015 - val_loss: 1.9964e-04\n",
            "Epoch 54/100\n",
            "12/12 [==============================] - 0s 23ms/step - loss: 0.0014 - val_loss: 1.9428e-04\n",
            "Epoch 55/100\n",
            "12/12 [==============================] - 0s 23ms/step - loss: 0.0021 - val_loss: 3.1328e-04\n",
            "Epoch 56/100\n",
            "12/12 [==============================] - 0s 21ms/step - loss: 0.0019 - val_loss: 1.9095e-04\n",
            "Epoch 57/100\n",
            "12/12 [==============================] - 0s 25ms/step - loss: 0.0015 - val_loss: 2.0436e-04\n",
            "Epoch 58/100\n",
            "12/12 [==============================] - 0s 21ms/step - loss: 0.0013 - val_loss: 2.1578e-04\n",
            "Epoch 59/100\n",
            "12/12 [==============================] - 0s 22ms/step - loss: 0.0014 - val_loss: 1.9746e-04\n",
            "Epoch 60/100\n",
            "12/12 [==============================] - 0s 21ms/step - loss: 0.0027 - val_loss: 2.4929e-04\n",
            "Epoch 61/100\n",
            "12/12 [==============================] - 0s 23ms/step - loss: 0.0025 - val_loss: 3.9491e-04\n",
            "Epoch 62/100\n",
            "12/12 [==============================] - 0s 20ms/step - loss: 0.0025 - val_loss: 2.0454e-04\n",
            "Epoch 63/100\n",
            "12/12 [==============================] - 0s 22ms/step - loss: 0.0043 - val_loss: 0.0012\n",
            "Epoch 64/100\n",
            "12/12 [==============================] - 0s 21ms/step - loss: 0.0042 - val_loss: 1.8878e-04\n",
            "Epoch 65/100\n",
            "12/12 [==============================] - 0s 23ms/step - loss: 0.0031 - val_loss: 2.1578e-04\n",
            "Epoch 66/100\n",
            "12/12 [==============================] - 0s 21ms/step - loss: 0.0027 - val_loss: 2.5661e-04\n",
            "Epoch 67/100\n",
            "12/12 [==============================] - 0s 23ms/step - loss: 0.0026 - val_loss: 1.9510e-04\n",
            "Epoch 68/100\n",
            "12/12 [==============================] - 0s 23ms/step - loss: 0.0029 - val_loss: 3.4522e-04\n",
            "Epoch 69/100\n",
            "12/12 [==============================] - 0s 22ms/step - loss: 0.0074 - val_loss: 0.0029\n",
            "Epoch 70/100\n",
            "12/12 [==============================] - 0s 24ms/step - loss: 0.0041 - val_loss: 3.5106e-04\n",
            "Epoch 71/100\n",
            "12/12 [==============================] - 0s 23ms/step - loss: 0.0031 - val_loss: 2.2049e-04\n",
            "Epoch 72/100\n",
            "12/12 [==============================] - 0s 23ms/step - loss: 0.0025 - val_loss: 2.0643e-04\n",
            "Epoch 73/100\n",
            "12/12 [==============================] - 0s 21ms/step - loss: 0.0021 - val_loss: 3.6980e-04\n",
            "Epoch 74/100\n",
            "12/12 [==============================] - 0s 23ms/step - loss: 0.0020 - val_loss: 2.0612e-04\n",
            "Epoch 75/100\n",
            "12/12 [==============================] - 0s 22ms/step - loss: 0.0020 - val_loss: 2.0694e-04\n",
            "Epoch 76/100\n",
            "12/12 [==============================] - 0s 23ms/step - loss: 0.0016 - val_loss: 2.9082e-04\n",
            "Epoch 77/100\n",
            "12/12 [==============================] - 0s 29ms/step - loss: 0.0017 - val_loss: 2.3471e-04\n",
            "Epoch 78/100\n",
            "12/12 [==============================] - 0s 30ms/step - loss: 0.0013 - val_loss: 2.0977e-04\n",
            "Epoch 79/100\n",
            "12/12 [==============================] - 0s 33ms/step - loss: 0.0013 - val_loss: 1.7299e-04\n",
            "Epoch 80/100\n",
            "12/12 [==============================] - 0s 30ms/step - loss: 0.0018 - val_loss: 2.0110e-04\n",
            "Epoch 81/100\n",
            "12/12 [==============================] - 0s 31ms/step - loss: 0.0013 - val_loss: 2.3012e-04\n",
            "Epoch 82/100\n",
            "12/12 [==============================] - 0s 33ms/step - loss: 0.0014 - val_loss: 1.7558e-04\n",
            "Epoch 83/100\n",
            "12/12 [==============================] - 0s 33ms/step - loss: 0.0017 - val_loss: 1.6953e-04\n",
            "Epoch 84/100\n",
            "12/12 [==============================] - 0s 21ms/step - loss: 0.0015 - val_loss: 1.6459e-04\n",
            "Epoch 85/100\n",
            "12/12 [==============================] - 0s 22ms/step - loss: 0.0013 - val_loss: 1.6798e-04\n",
            "Epoch 86/100\n",
            "12/12 [==============================] - 0s 24ms/step - loss: 0.0013 - val_loss: 2.8916e-04\n",
            "Epoch 87/100\n",
            "12/12 [==============================] - 0s 22ms/step - loss: 0.0015 - val_loss: 2.3287e-04\n",
            "Epoch 88/100\n",
            "12/12 [==============================] - 0s 21ms/step - loss: 0.0015 - val_loss: 4.2353e-04\n",
            "Epoch 89/100\n",
            "12/12 [==============================] - 0s 25ms/step - loss: 0.0021 - val_loss: 2.0376e-04\n",
            "Epoch 90/100\n",
            "12/12 [==============================] - 0s 21ms/step - loss: 0.0017 - val_loss: 1.7167e-04\n",
            "Epoch 91/100\n",
            "12/12 [==============================] - 0s 22ms/step - loss: 0.0016 - val_loss: 1.5543e-04\n",
            "Epoch 92/100\n",
            "12/12 [==============================] - 0s 21ms/step - loss: 0.0014 - val_loss: 1.5884e-04\n",
            "Epoch 93/100\n",
            "12/12 [==============================] - 0s 24ms/step - loss: 0.0013 - val_loss: 1.6635e-04\n",
            "Epoch 94/100\n",
            "12/12 [==============================] - 0s 21ms/step - loss: 0.0011 - val_loss: 1.5475e-04\n",
            "Epoch 95/100\n",
            "12/12 [==============================] - 0s 23ms/step - loss: 0.0011 - val_loss: 1.6465e-04\n",
            "Epoch 96/100\n",
            "12/12 [==============================] - 0s 22ms/step - loss: 0.0012 - val_loss: 1.7969e-04\n",
            "Epoch 97/100\n",
            "12/12 [==============================] - 0s 22ms/step - loss: 0.0011 - val_loss: 1.6357e-04\n",
            "Epoch 98/100\n",
            "12/12 [==============================] - 0s 24ms/step - loss: 0.0010 - val_loss: 1.6260e-04\n",
            "Epoch 99/100\n",
            "12/12 [==============================] - 0s 22ms/step - loss: 0.0012 - val_loss: 2.1612e-04\n",
            "Epoch 100/100\n",
            "12/12 [==============================] - 0s 23ms/step - loss: 0.0012 - val_loss: 1.7116e-04\n"
          ]
        },
        {
          "output_type": "execute_result",
          "data": {
            "text/plain": [
              "<keras.callbacks.History at 0x7fd6bbcd80d0>"
            ]
          },
          "metadata": {},
          "execution_count": 201
        }
      ]
    },
    {
      "cell_type": "code",
      "source": [
        "import tensorflow as tf"
      ],
      "metadata": {
        "id": "6UUmdBSTocOP"
      },
      "execution_count": 202,
      "outputs": []
    },
    {
      "cell_type": "code",
      "source": [
        "tf.__version__"
      ],
      "metadata": {
        "colab": {
          "base_uri": "https://localhost:8080/",
          "height": 35
        },
        "id": "9hESGAiLotzi",
        "outputId": "757c73e3-c02d-4317-c308-2c603ebf9f1f"
      },
      "execution_count": 203,
      "outputs": [
        {
          "output_type": "execute_result",
          "data": {
            "text/plain": [
              "'2.12.0'"
            ],
            "application/vnd.google.colaboratory.intrinsic+json": {
              "type": "string"
            }
          },
          "metadata": {},
          "execution_count": 203
        }
      ]
    },
    {
      "cell_type": "markdown",
      "source": [
        "Predicting over the test data and plotting the output"
      ],
      "metadata": {
        "id": "Tm7-qXV_ox8t"
      }
    },
    {
      "cell_type": "code",
      "source": [
        "train_predict = model.predict(X_train)\n",
        "test_predict = model.predict(X_test)"
      ],
      "metadata": {
        "colab": {
          "base_uri": "https://localhost:8080/"
        },
        "id": "j2PU1vbSowE_",
        "outputId": "44dd56e7-2d4e-4473-95f9-0f38c1e9a362"
      },
      "execution_count": 204,
      "outputs": [
        {
          "output_type": "stream",
          "name": "stdout",
          "text": [
            "23/23 [==============================] - 1s 9ms/step\n",
            "11/11 [==============================] - 0s 8ms/step\n"
          ]
        }
      ]
    },
    {
      "cell_type": "code",
      "source": [
        "#since we scaled the data before so we will have to rescale it back so as to calculate the RMSE\n",
        "train_predict = scaler.inverse_transform(train_predict)\n",
        "test_predict = scaler.inverse_transform(test_predict)"
      ],
      "metadata": {
        "id": "9zwB-MjmpPs6"
      },
      "execution_count": 205,
      "outputs": []
    },
    {
      "cell_type": "code",
      "source": [
        "#RMSE performance matrix\n",
        "import math\n",
        "from sklearn.metrics import mean_squared_error\n",
        "math.sqrt(mean_squared_error(y_train, train_predict))"
      ],
      "metadata": {
        "colab": {
          "base_uri": "https://localhost:8080/"
        },
        "id": "FEoeSNL5pq0u",
        "outputId": "f76fef51-c330-4565-f548-507ed1d42b0b"
      },
      "execution_count": 206,
      "outputs": [
        {
          "output_type": "execute_result",
          "data": {
            "text/plain": [
              "221.55302476072464"
            ]
          },
          "metadata": {},
          "execution_count": 206
        }
      ]
    },
    {
      "cell_type": "code",
      "source": [
        "math.sqrt(mean_squared_error(y_test, test_predict))"
      ],
      "metadata": {
        "colab": {
          "base_uri": "https://localhost:8080/"
        },
        "id": "ZhabTGLDp2wy",
        "outputId": "d944f288-2722-4531-a89e-3a2a9c3bff0a"
      },
      "execution_count": 207,
      "outputs": [
        {
          "output_type": "execute_result",
          "data": {
            "text/plain": [
              "160.3913559465664"
            ]
          },
          "metadata": {},
          "execution_count": 207
        }
      ]
    },
    {
      "cell_type": "code",
      "source": [
        "### Plotting\n",
        "# shift train predictions for plotting\n",
        "look_back=100\n",
        "trainPredictPlot = np.empty_like(df1)\n",
        "trainPredictPlot[:, :] = np.nan\n",
        "trainPredictPlot[look_back:len(train_predict)+look_back, :] = train_predict\n",
        "# shift test predictions for plotting\n",
        "testPredictPlot = np.empty_like(df1)\n",
        "testPredictPlot[:, :] = np.nan\n",
        "testPredictPlot[len(train_predict)+(look_back*2):len(df1), :] = test_predict\n",
        "# plot baseline and predictions\n",
        "plt.plot(scaler.inverse_transform(df1))\n",
        "plt.plot(trainPredictPlot)\n",
        "plt.plot(testPredictPlot)\n",
        "plt.show()"
      ],
      "metadata": {
        "colab": {
          "base_uri": "https://localhost:8080/",
          "height": 430
        },
        "id": "oVL4j62np751",
        "outputId": "73ce192d-5f94-46b0-eea8-037a28e08ad8"
      },
      "execution_count": 208,
      "outputs": [
        {
          "output_type": "display_data",
          "data": {
            "text/plain": [
              "<Figure size 640x480 with 1 Axes>"
            ],
            "image/png": "[encoded data removed]"
          },
          "metadata": {}
        }
      ]
    },
    {
      "cell_type": "code",
      "source": [
        "len(test_data)"
      ],
      "metadata": {
        "colab": {
          "base_uri": "https://localhost:8080/"
        },
        "id": "pvoCsun9qif6",
        "outputId": "1c58f4b4-e591-4b48-f868-7b9bff548f2d"
      },
      "execution_count": 209,
      "outputs": [
        {
          "output_type": "execute_result",
          "data": {
            "text/plain": [
              "440"
            ]
          },
          "metadata": {},
          "execution_count": 209
        }
      ]
    },
    {
      "cell_type": "code",
      "source": [
        "x_input = test_data[340:].reshape(1, -1)\n",
        "x_input.shape"
      ],
      "metadata": {
        "colab": {
          "base_uri": "https://localhost:8080/"
        },
        "id": "OEI_SdF4rWyo",
        "outputId": "e49315dd-2303-4230-802c-e27874676c76"
      },
      "execution_count": 210,
      "outputs": [
        {
          "output_type": "execute_result",
          "data": {
            "text/plain": [
              "(1, 100)"
            ]
          },
          "metadata": {},
          "execution_count": 210
        }
      ]
    },
    {
      "cell_type": "code",
      "source": [
        "temp_input = list(x_input)\n",
        "temp_input = temp_input[0].tolist()"
      ],
      "metadata": {
        "id": "A1jdJkCKrfhZ"
      },
      "execution_count": 211,
      "outputs": []
    },
    {
      "cell_type": "code",
      "source": [
        "temp_input"
      ],
      "metadata": {
        "colab": {
          "base_uri": "https://localhost:8080/"
        },
        "id": "Kr-81a4Frnod",
        "outputId": "94146a61-f6c0-4ac3-8e9d-7580efe14261"
      },
      "execution_count": 212,
      "outputs": [
        {
          "output_type": "execute_result",
          "data": {
            "text/plain": [
              "[0.13515341264871633,\n",
              " 0.1334001252348152,\n",
              " 0.14707576706324355,\n",
              " 0.14619912335629304,\n",
              " 0.14624921728240442,\n",
              " 0.14935504070131495,\n",
              " 0.15226048841577955,\n",
              " 0.14980588603631806,\n",
              " 0.14572323105823415,\n",
              " 0.14649968691296178,\n",
              " 0.14259236067626796,\n",
              " 0.14256731371321218,\n",
              " 0.15421415153412643,\n",
              " 0.15739511584220411,\n",
              " 0.15716969317470253,\n",
              " 0.1545397620538509,\n",
              " 0.15180964308077638,\n",
              " 0.1476518472135253,\n",
              " 0.16713838447088286,\n",
              " 0.16696305572949277,\n",
              " 0.16262993112085156,\n",
              " 0.16710081402629928,\n",
              " 0.16758922980588598,\n",
              " 0.16463368816530988,\n",
              " 0.1633813400125234,\n",
              " 0.1633813400125234,\n",
              " 0.16493425172197868,\n",
              " 0.17084533500313087,\n",
              " 0.17112085159674384,\n",
              " 0.1687163431433938,\n",
              " 0.16210394489668123,\n",
              " 0.16280525986224165,\n",
              " 0.1656856606136506,\n",
              " 0.17179711959924854,\n",
              " 0.17648090169067,\n",
              " 0.17635566687539134,\n",
              " 0.1834690043832185,\n",
              " 0.1856230432060112,\n",
              " 0.18219160926737632,\n",
              " 0.18126487163431432,\n",
              " 0.1777833437695679,\n",
              " 0.18467125860989347,\n",
              " 0.18564809016906697,\n",
              " 0.19273638071383836,\n",
              " 0.1915341264871634,\n",
              " 0.19313713212273004,\n",
              " 0.19829680651221032,\n",
              " 0.1955666875391358,\n",
              " 0.1957921102066374,\n",
              " 0.1931621790857858,\n",
              " 0.2007764558547276,\n",
              " 0.19997495303694424,\n",
              " 0.19644333124608637,\n",
              " 0.2034314339386349,\n",
              " 0.2064120225422667,\n",
              " 0.2072636192861615,\n",
              " 0.21823418910457104,\n",
              " 0.21445209768315587,\n",
              " 0.21162179085785848,\n",
              " 0.21282404508453345,\n",
              " 0.20999373825923606,\n",
              " 0.20480901690670006,\n",
              " 0.20348152786474638,\n",
              " 0.20771446462116466,\n",
              " 0.20964308077645577,\n",
              " 0.21001878522229173,\n",
              " 0.21828428303068248,\n",
              " 0.2176330619912335,\n",
              " 0.22106449592986843,\n",
              " 0.21613024420788973,\n",
              " 0.21314965560425791,\n",
              " 0.215178459611772,\n",
              " 0.21735754539762048,\n",
              " 0.21956167814652466,\n",
              " 0.21635566687539132,\n",
              " 0.22289292423293672,\n",
              " 0.22444583594239192,\n",
              " 0.22232936756418276,\n",
              " 0.21475266123982467,\n",
              " 0.21122103944896675,\n",
              " 0.1882279273638071,\n",
              " 0.18036318096430803,\n",
              " 0.18274264245460237,\n",
              " 0.1787100814026299,\n",
              " 0.17815904821540385,\n",
              " 0.17770820288040068,\n",
              " 0.18189104571070758,\n",
              " 0.1768566061365059,\n",
              " 0.1746524733876017,\n",
              " 0.16821540388227924,\n",
              " 0.16944270507200998,\n",
              " 0.17282404508453347,\n",
              " 0.17630557294927984,\n",
              " 0.18604884157795865,\n",
              " 0.17417658108954281,\n",
              " 0.17976205385097055,\n",
              " 0.18371947401377575,\n",
              " 0.1935629304946775,\n",
              " 0.20240450845335,\n",
              " 0.20295554164057605]"
            ]
          },
          "metadata": {},
          "execution_count": 212
        }
      ]
    },
    {
      "cell_type": "code",
      "source": [
        "# demonstrate prediction for next 10 days\n",
        "from numpy import array\n",
        "\n",
        "lst_output=[]\n",
        "n_steps=100\n",
        "i=0\n",
        "while(i<30):\n",
        "\n",
        "    if(len(temp_input)>100):\n",
        "        #print(temp_input)\n",
        "        x_input=np.array(temp_input[1:])\n",
        "        print(\"{} day input {}\".format(i,x_input))\n",
        "        x_input=x_input.reshape(1,-1)\n",
        "        x_input = x_input.reshape((1, n_steps, 1))\n",
        "        #print(x_input)\n",
        "        yhat = model.predict(x_input, verbose=0)\n",
        "        print(\"{} day output {}\".format(i,yhat))\n",
        "        temp_input.extend(yhat[0].tolist())\n",
        "        temp_input=temp_input[1:]\n",
        "        #print(temp_input)\n",
        "        lst_output.extend(yhat.tolist())\n",
        "        i=i+1\n",
        "    else:\n",
        "        x_input = x_input.reshape((1, n_steps,1))\n",
        "        yhat = model.predict(x_input, verbose=0)\n",
        "        print(yhat[0])\n",
        "        temp_input.extend(yhat[0].tolist())\n",
        "        print(len(temp_input))\n",
        "        lst_output.extend(yhat.tolist())\n",
        "        i=i+1\n",
        "\n",
        "\n",
        "print(lst_output)"
      ],
      "metadata": {
        "colab": {
          "base_uri": "https://localhost:8080/"
        },
        "id": "PU9nTRjhroeX",
        "outputId": "a5b5c61d-09c3-4edb-c724-413f3d7287af"
      },
      "execution_count": 213,
      "outputs": [
        {
          "output_type": "stream",
          "name": "stdout",
          "text": [
            "[0.19195625]\n",
            "101\n",
            "1 day input [0.13340013 0.14707577 0.14619912 0.14624922 0.14935504 0.15226049\n",
            " 0.14980589 0.14572323 0.14649969 0.14259236 0.14256731 0.15421415\n",
            " 0.15739512 0.15716969 0.15453976 0.15180964 0.14765185 0.16713838\n",
            " 0.16696306 0.16262993 0.16710081 0.16758923 0.16463369 0.16338134\n",
            " 0.16338134 0.16493425 0.17084534 0.17112085 0.16871634 0.16210394\n",
            " 0.16280526 0.16568566 0.17179712 0.1764809  0.17635567 0.183469\n",
            " 0.18562304 0.18219161 0.18126487 0.17778334 0.18467126 0.18564809\n",
            " 0.19273638 0.19153413 0.19313713 0.19829681 0.19556669 0.19579211\n",
            " 0.19316218 0.20077646 0.19997495 0.19644333 0.20343143 0.20641202\n",
            " 0.20726362 0.21823419 0.2144521  0.21162179 0.21282405 0.20999374\n",
            " 0.20480902 0.20348153 0.20771446 0.20964308 0.21001879 0.21828428\n",
            " 0.21763306 0.2210645  0.21613024 0.21314966 0.21517846 0.21735755\n",
            " 0.21956168 0.21635567 0.22289292 0.22444584 0.22232937 0.21475266\n",
            " 0.21122104 0.18822793 0.18036318 0.18274264 0.17871008 0.17815905\n",
            " 0.1777082  0.18189105 0.17685661 0.17465247 0.1682154  0.16944271\n",
            " 0.17282405 0.17630557 0.18604884 0.17417658 0.17976205 0.18371947\n",
            " 0.19356293 0.20240451 0.20295554 0.19195625]\n",
            "1 day output [[0.19516376]]\n",
            "2 day input [0.14707577 0.14619912 0.14624922 0.14935504 0.15226049 0.14980589\n",
            " 0.14572323 0.14649969 0.14259236 0.14256731 0.15421415 0.15739512\n",
            " 0.15716969 0.15453976 0.15180964 0.14765185 0.16713838 0.16696306\n",
            " 0.16262993 0.16710081 0.16758923 0.16463369 0.16338134 0.16338134\n",
            " 0.16493425 0.17084534 0.17112085 0.16871634 0.16210394 0.16280526\n",
            " 0.16568566 0.17179712 0.1764809  0.17635567 0.183469   0.18562304\n",
            " 0.18219161 0.18126487 0.17778334 0.18467126 0.18564809 0.19273638\n",
            " 0.19153413 0.19313713 0.19829681 0.19556669 0.19579211 0.19316218\n",
            " 0.20077646 0.19997495 0.19644333 0.20343143 0.20641202 0.20726362\n",
            " 0.21823419 0.2144521  0.21162179 0.21282405 0.20999374 0.20480902\n",
            " 0.20348153 0.20771446 0.20964308 0.21001879 0.21828428 0.21763306\n",
            " 0.2210645  0.21613024 0.21314966 0.21517846 0.21735755 0.21956168\n",
            " 0.21635567 0.22289292 0.22444584 0.22232937 0.21475266 0.21122104\n",
            " 0.18822793 0.18036318 0.18274264 0.17871008 0.17815905 0.1777082\n",
            " 0.18189105 0.17685661 0.17465247 0.1682154  0.16944271 0.17282405\n",
            " 0.17630557 0.18604884 0.17417658 0.17976205 0.18371947 0.19356293\n",
            " 0.20240451 0.20295554 0.19195625 0.19516376]\n",
            "2 day output [[0.1972611]]\n",
            "3 day input [0.14619912 0.14624922 0.14935504 0.15226049 0.14980589 0.14572323\n",
            " 0.14649969 0.14259236 0.14256731 0.15421415 0.15739512 0.15716969\n",
            " 0.15453976 0.15180964 0.14765185 0.16713838 0.16696306 0.16262993\n",
            " 0.16710081 0.16758923 0.16463369 0.16338134 0.16338134 0.16493425\n",
            " 0.17084534 0.17112085 0.16871634 0.16210394 0.16280526 0.16568566\n",
            " 0.17179712 0.1764809  0.17635567 0.183469   0.18562304 0.18219161\n",
            " 0.18126487 0.17778334 0.18467126 0.18564809 0.19273638 0.19153413\n",
            " 0.19313713 0.19829681 0.19556669 0.19579211 0.19316218 0.20077646\n",
            " 0.19997495 0.19644333 0.20343143 0.20641202 0.20726362 0.21823419\n",
            " 0.2144521  0.21162179 0.21282405 0.20999374 0.20480902 0.20348153\n",
            " 0.20771446 0.20964308 0.21001879 0.21828428 0.21763306 0.2210645\n",
            " 0.21613024 0.21314966 0.21517846 0.21735755 0.21956168 0.21635567\n",
            " 0.22289292 0.22444584 0.22232937 0.21475266 0.21122104 0.18822793\n",
            " 0.18036318 0.18274264 0.17871008 0.17815905 0.1777082  0.18189105\n",
            " 0.17685661 0.17465247 0.1682154  0.16944271 0.17282405 0.17630557\n",
            " 0.18604884 0.17417658 0.17976205 0.18371947 0.19356293 0.20240451\n",
            " 0.20295554 0.19195625 0.19516376 0.1972611 ]\n",
            "3 day output [[0.1986711]]\n",
            "4 day input [0.14624922 0.14935504 0.15226049 0.14980589 0.14572323 0.14649969\n",
            " 0.14259236 0.14256731 0.15421415 0.15739512 0.15716969 0.15453976\n",
            " 0.15180964 0.14765185 0.16713838 0.16696306 0.16262993 0.16710081\n",
            " 0.16758923 0.16463369 0.16338134 0.16338134 0.16493425 0.17084534\n",
            " 0.17112085 0.16871634 0.16210394 0.16280526 0.16568566 0.17179712\n",
            " 0.1764809  0.17635567 0.183469   0.18562304 0.18219161 0.18126487\n",
            " 0.17778334 0.18467126 0.18564809 0.19273638 0.19153413 0.19313713\n",
            " 0.19829681 0.19556669 0.19579211 0.19316218 0.20077646 0.19997495\n",
            " 0.19644333 0.20343143 0.20641202 0.20726362 0.21823419 0.2144521\n",
            " 0.21162179 0.21282405 0.20999374 0.20480902 0.20348153 0.20771446\n",
            " 0.20964308 0.21001879 0.21828428 0.21763306 0.2210645  0.21613024\n",
            " 0.21314966 0.21517846 0.21735755 0.21956168 0.21635567 0.22289292\n",
            " 0.22444584 0.22232937 0.21475266 0.21122104 0.18822793 0.18036318\n",
            " 0.18274264 0.17871008 0.17815905 0.1777082  0.18189105 0.17685661\n",
            " 0.17465247 0.1682154  0.16944271 0.17282405 0.17630557 0.18604884\n",
            " 0.17417658 0.17976205 0.18371947 0.19356293 0.20240451 0.20295554\n",
            " 0.19195625 0.19516376 0.1972611  0.1986711 ]\n",
            "4 day output [[0.1997399]]\n",
            "5 day input [0.14935504 0.15226049 0.14980589 0.14572323 0.14649969 0.14259236\n",
            " 0.14256731 0.15421415 0.15739512 0.15716969 0.15453976 0.15180964\n",
            " 0.14765185 0.16713838 0.16696306 0.16262993 0.16710081 0.16758923\n",
            " 0.16463369 0.16338134 0.16338134 0.16493425 0.17084534 0.17112085\n",
            " 0.16871634 0.16210394 0.16280526 0.16568566 0.17179712 0.1764809\n",
            " 0.17635567 0.183469   0.18562304 0.18219161 0.18126487 0.17778334\n",
            " 0.18467126 0.18564809 0.19273638 0.19153413 0.19313713 0.19829681\n",
            " 0.19556669 0.19579211 0.19316218 0.20077646 0.19997495 0.19644333\n",
            " 0.20343143 0.20641202 0.20726362 0.21823419 0.2144521  0.21162179\n",
            " 0.21282405 0.20999374 0.20480902 0.20348153 0.20771446 0.20964308\n",
            " 0.21001879 0.21828428 0.21763306 0.2210645  0.21613024 0.21314966\n",
            " 0.21517846 0.21735755 0.21956168 0.21635567 0.22289292 0.22444584\n",
            " 0.22232937 0.21475266 0.21122104 0.18822793 0.18036318 0.18274264\n",
            " 0.17871008 0.17815905 0.1777082  0.18189105 0.17685661 0.17465247\n",
            " 0.1682154  0.16944271 0.17282405 0.17630557 0.18604884 0.17417658\n",
            " 0.17976205 0.18371947 0.19356293 0.20240451 0.20295554 0.19195625\n",
            " 0.19516376 0.1972611  0.1986711  0.1997399 ]\n",
            "5 day output [[0.20066696]]\n",
            "6 day input [0.15226049 0.14980589 0.14572323 0.14649969 0.14259236 0.14256731\n",
            " 0.15421415 0.15739512 0.15716969 0.15453976 0.15180964 0.14765185\n",
            " 0.16713838 0.16696306 0.16262993 0.16710081 0.16758923 0.16463369\n",
            " 0.16338134 0.16338134 0.16493425 0.17084534 0.17112085 0.16871634\n",
            " 0.16210394 0.16280526 0.16568566 0.17179712 0.1764809  0.17635567\n",
            " 0.183469   0.18562304 0.18219161 0.18126487 0.17778334 0.18467126\n",
            " 0.18564809 0.19273638 0.19153413 0.19313713 0.19829681 0.19556669\n",
            " 0.19579211 0.19316218 0.20077646 0.19997495 0.19644333 0.20343143\n",
            " 0.20641202 0.20726362 0.21823419 0.2144521  0.21162179 0.21282405\n",
            " 0.20999374 0.20480902 0.20348153 0.20771446 0.20964308 0.21001879\n",
            " 0.21828428 0.21763306 0.2210645  0.21613024 0.21314966 0.21517846\n",
            " 0.21735755 0.21956168 0.21635567 0.22289292 0.22444584 0.22232937\n",
            " 0.21475266 0.21122104 0.18822793 0.18036318 0.18274264 0.17871008\n",
            " 0.17815905 0.1777082  0.18189105 0.17685661 0.17465247 0.1682154\n",
            " 0.16944271 0.17282405 0.17630557 0.18604884 0.17417658 0.17976205\n",
            " 0.18371947 0.19356293 0.20240451 0.20295554 0.19195625 0.19516376\n",
            " 0.1972611  0.1986711  0.1997399  0.20066696]\n",
            "6 day output [[0.20154485]]\n",
            "7 day input [0.14980589 0.14572323 0.14649969 0.14259236 0.14256731 0.15421415\n",
            " 0.15739512 0.15716969 0.15453976 0.15180964 0.14765185 0.16713838\n",
            " 0.16696306 0.16262993 0.16710081 0.16758923 0.16463369 0.16338134\n",
            " 0.16338134 0.16493425 0.17084534 0.17112085 0.16871634 0.16210394\n",
            " 0.16280526 0.16568566 0.17179712 0.1764809  0.17635567 0.183469\n",
            " 0.18562304 0.18219161 0.18126487 0.17778334 0.18467126 0.18564809\n",
            " 0.19273638 0.19153413 0.19313713 0.19829681 0.19556669 0.19579211\n",
            " 0.19316218 0.20077646 0.19997495 0.19644333 0.20343143 0.20641202\n",
            " 0.20726362 0.21823419 0.2144521  0.21162179 0.21282405 0.20999374\n",
            " 0.20480902 0.20348153 0.20771446 0.20964308 0.21001879 0.21828428\n",
            " 0.21763306 0.2210645  0.21613024 0.21314966 0.21517846 0.21735755\n",
            " 0.21956168 0.21635567 0.22289292 0.22444584 0.22232937 0.21475266\n",
            " 0.21122104 0.18822793 0.18036318 0.18274264 0.17871008 0.17815905\n",
            " 0.1777082  0.18189105 0.17685661 0.17465247 0.1682154  0.16944271\n",
            " 0.17282405 0.17630557 0.18604884 0.17417658 0.17976205 0.18371947\n",
            " 0.19356293 0.20240451 0.20295554 0.19195625 0.19516376 0.1972611\n",
            " 0.1986711  0.1997399  0.20066696 0.20154485]\n",
            "7 day output [[0.20240796]]\n",
            "8 day input [0.14572323 0.14649969 0.14259236 0.14256731 0.15421415 0.15739512\n",
            " 0.15716969 0.15453976 0.15180964 0.14765185 0.16713838 0.16696306\n",
            " 0.16262993 0.16710081 0.16758923 0.16463369 0.16338134 0.16338134\n",
            " 0.16493425 0.17084534 0.17112085 0.16871634 0.16210394 0.16280526\n",
            " 0.16568566 0.17179712 0.1764809  0.17635567 0.183469   0.18562304\n",
            " 0.18219161 0.18126487 0.17778334 0.18467126 0.18564809 0.19273638\n",
            " 0.19153413 0.19313713 0.19829681 0.19556669 0.19579211 0.19316218\n",
            " 0.20077646 0.19997495 0.19644333 0.20343143 0.20641202 0.20726362\n",
            " 0.21823419 0.2144521  0.21162179 0.21282405 0.20999374 0.20480902\n",
            " 0.20348153 0.20771446 0.20964308 0.21001879 0.21828428 0.21763306\n",
            " 0.2210645  0.21613024 0.21314966 0.21517846 0.21735755 0.21956168\n",
            " 0.21635567 0.22289292 0.22444584 0.22232937 0.21475266 0.21122104\n",
            " 0.18822793 0.18036318 0.18274264 0.17871008 0.17815905 0.1777082\n",
            " 0.18189105 0.17685661 0.17465247 0.1682154  0.16944271 0.17282405\n",
            " 0.17630557 0.18604884 0.17417658 0.17976205 0.18371947 0.19356293\n",
            " 0.20240451 0.20295554 0.19195625 0.19516376 0.1972611  0.1986711\n",
            " 0.1997399  0.20066696 0.20154485 0.20240796]\n",
            "8 day output [[0.20326504]]\n",
            "9 day input [0.14649969 0.14259236 0.14256731 0.15421415 0.15739512 0.15716969\n",
            " 0.15453976 0.15180964 0.14765185 0.16713838 0.16696306 0.16262993\n",
            " 0.16710081 0.16758923 0.16463369 0.16338134 0.16338134 0.16493425\n",
            " 0.17084534 0.17112085 0.16871634 0.16210394 0.16280526 0.16568566\n",
            " 0.17179712 0.1764809  0.17635567 0.183469   0.18562304 0.18219161\n",
            " 0.18126487 0.17778334 0.18467126 0.18564809 0.19273638 0.19153413\n",
            " 0.19313713 0.19829681 0.19556669 0.19579211 0.19316218 0.20077646\n",
            " 0.19997495 0.19644333 0.20343143 0.20641202 0.20726362 0.21823419\n",
            " 0.2144521  0.21162179 0.21282405 0.20999374 0.20480902 0.20348153\n",
            " 0.20771446 0.20964308 0.21001879 0.21828428 0.21763306 0.2210645\n",
            " 0.21613024 0.21314966 0.21517846 0.21735755 0.21956168 0.21635567\n",
            " 0.22289292 0.22444584 0.22232937 0.21475266 0.21122104 0.18822793\n",
            " 0.18036318 0.18274264 0.17871008 0.17815905 0.1777082  0.18189105\n",
            " 0.17685661 0.17465247 0.1682154  0.16944271 0.17282405 0.17630557\n",
            " 0.18604884 0.17417658 0.17976205 0.18371947 0.19356293 0.20240451\n",
            " 0.20295554 0.19195625 0.19516376 0.1972611  0.1986711  0.1997399\n",
            " 0.20066696 0.20154485 0.20240796 0.20326504]\n",
            "9 day output [[0.20411572]]\n",
            "10 day input [0.14259236 0.14256731 0.15421415 0.15739512 0.15716969 0.15453976\n",
            " 0.15180964 0.14765185 0.16713838 0.16696306 0.16262993 0.16710081\n",
            " 0.16758923 0.16463369 0.16338134 0.16338134 0.16493425 0.17084534\n",
            " 0.17112085 0.16871634 0.16210394 0.16280526 0.16568566 0.17179712\n",
            " 0.1764809  0.17635567 0.183469   0.18562304 0.18219161 0.18126487\n",
            " 0.17778334 0.18467126 0.18564809 0.19273638 0.19153413 0.19313713\n",
            " 0.19829681 0.19556669 0.19579211 0.19316218 0.20077646 0.19997495\n",
            " 0.19644333 0.20343143 0.20641202 0.20726362 0.21823419 0.2144521\n",
            " 0.21162179 0.21282405 0.20999374 0.20480902 0.20348153 0.20771446\n",
            " 0.20964308 0.21001879 0.21828428 0.21763306 0.2210645  0.21613024\n",
            " 0.21314966 0.21517846 0.21735755 0.21956168 0.21635567 0.22289292\n",
            " 0.22444584 0.22232937 0.21475266 0.21122104 0.18822793 0.18036318\n",
            " 0.18274264 0.17871008 0.17815905 0.1777082  0.18189105 0.17685661\n",
            " 0.17465247 0.1682154  0.16944271 0.17282405 0.17630557 0.18604884\n",
            " 0.17417658 0.17976205 0.18371947 0.19356293 0.20240451 0.20295554\n",
            " 0.19195625 0.19516376 0.1972611  0.1986711  0.1997399  0.20066696\n",
            " 0.20154485 0.20240796 0.20326504 0.20411572]\n",
            "10 day output [[0.20495772]]\n",
            "11 day input [0.14256731 0.15421415 0.15739512 0.15716969 0.15453976 0.15180964\n",
            " 0.14765185 0.16713838 0.16696306 0.16262993 0.16710081 0.16758923\n",
            " 0.16463369 0.16338134 0.16338134 0.16493425 0.17084534 0.17112085\n",
            " 0.16871634 0.16210394 0.16280526 0.16568566 0.17179712 0.1764809\n",
            " 0.17635567 0.183469   0.18562304 0.18219161 0.18126487 0.17778334\n",
            " 0.18467126 0.18564809 0.19273638 0.19153413 0.19313713 0.19829681\n",
            " 0.19556669 0.19579211 0.19316218 0.20077646 0.19997495 0.19644333\n",
            " 0.20343143 0.20641202 0.20726362 0.21823419 0.2144521  0.21162179\n",
            " 0.21282405 0.20999374 0.20480902 0.20348153 0.20771446 0.20964308\n",
            " 0.21001879 0.21828428 0.21763306 0.2210645  0.21613024 0.21314966\n",
            " 0.21517846 0.21735755 0.21956168 0.21635567 0.22289292 0.22444584\n",
            " 0.22232937 0.21475266 0.21122104 0.18822793 0.18036318 0.18274264\n",
            " 0.17871008 0.17815905 0.1777082  0.18189105 0.17685661 0.17465247\n",
            " 0.1682154  0.16944271 0.17282405 0.17630557 0.18604884 0.17417658\n",
            " 0.17976205 0.18371947 0.19356293 0.20240451 0.20295554 0.19195625\n",
            " 0.19516376 0.1972611  0.1986711  0.1997399  0.20066696 0.20154485\n",
            " 0.20240796 0.20326504 0.20411572 0.20495772]\n",
            "11 day output [[0.20578909]]\n",
            "12 day input [0.15421415 0.15739512 0.15716969 0.15453976 0.15180964 0.14765185\n",
            " 0.16713838 0.16696306 0.16262993 0.16710081 0.16758923 0.16463369\n",
            " 0.16338134 0.16338134 0.16493425 0.17084534 0.17112085 0.16871634\n",
            " 0.16210394 0.16280526 0.16568566 0.17179712 0.1764809  0.17635567\n",
            " 0.183469   0.18562304 0.18219161 0.18126487 0.17778334 0.18467126\n",
            " 0.18564809 0.19273638 0.19153413 0.19313713 0.19829681 0.19556669\n",
            " 0.19579211 0.19316218 0.20077646 0.19997495 0.19644333 0.20343143\n",
            " 0.20641202 0.20726362 0.21823419 0.2144521  0.21162179 0.21282405\n",
            " 0.20999374 0.20480902 0.20348153 0.20771446 0.20964308 0.21001879\n",
            " 0.21828428 0.21763306 0.2210645  0.21613024 0.21314966 0.21517846\n",
            " 0.21735755 0.21956168 0.21635567 0.22289292 0.22444584 0.22232937\n",
            " 0.21475266 0.21122104 0.18822793 0.18036318 0.18274264 0.17871008\n",
            " 0.17815905 0.1777082  0.18189105 0.17685661 0.17465247 0.1682154\n",
            " 0.16944271 0.17282405 0.17630557 0.18604884 0.17417658 0.17976205\n",
            " 0.18371947 0.19356293 0.20240451 0.20295554 0.19195625 0.19516376\n",
            " 0.1972611  0.1986711  0.1997399  0.20066696 0.20154485 0.20240796\n",
            " 0.20326504 0.20411572 0.20495772 0.20578909]\n",
            "12 day output [[0.20660874]]\n",
            "13 day input [0.15739512 0.15716969 0.15453976 0.15180964 0.14765185 0.16713838\n",
            " 0.16696306 0.16262993 0.16710081 0.16758923 0.16463369 0.16338134\n",
            " 0.16338134 0.16493425 0.17084534 0.17112085 0.16871634 0.16210394\n",
            " 0.16280526 0.16568566 0.17179712 0.1764809  0.17635567 0.183469\n",
            " 0.18562304 0.18219161 0.18126487 0.17778334 0.18467126 0.18564809\n",
            " 0.19273638 0.19153413 0.19313713 0.19829681 0.19556669 0.19579211\n",
            " 0.19316218 0.20077646 0.19997495 0.19644333 0.20343143 0.20641202\n",
            " 0.20726362 0.21823419 0.2144521  0.21162179 0.21282405 0.20999374\n",
            " 0.20480902 0.20348153 0.20771446 0.20964308 0.21001879 0.21828428\n",
            " 0.21763306 0.2210645  0.21613024 0.21314966 0.21517846 0.21735755\n",
            " 0.21956168 0.21635567 0.22289292 0.22444584 0.22232937 0.21475266\n",
            " 0.21122104 0.18822793 0.18036318 0.18274264 0.17871008 0.17815905\n",
            " 0.1777082  0.18189105 0.17685661 0.17465247 0.1682154  0.16944271\n",
            " 0.17282405 0.17630557 0.18604884 0.17417658 0.17976205 0.18371947\n",
            " 0.19356293 0.20240451 0.20295554 0.19195625 0.19516376 0.1972611\n",
            " 0.1986711  0.1997399  0.20066696 0.20154485 0.20240796 0.20326504\n",
            " 0.20411572 0.20495772 0.20578909 0.20660874]\n",
            "13 day output [[0.20741647]]\n",
            "14 day input [0.15716969 0.15453976 0.15180964 0.14765185 0.16713838 0.16696306\n",
            " 0.16262993 0.16710081 0.16758923 0.16463369 0.16338134 0.16338134\n",
            " 0.16493425 0.17084534 0.17112085 0.16871634 0.16210394 0.16280526\n",
            " 0.16568566 0.17179712 0.1764809  0.17635567 0.183469   0.18562304\n",
            " 0.18219161 0.18126487 0.17778334 0.18467126 0.18564809 0.19273638\n",
            " 0.19153413 0.19313713 0.19829681 0.19556669 0.19579211 0.19316218\n",
            " 0.20077646 0.19997495 0.19644333 0.20343143 0.20641202 0.20726362\n",
            " 0.21823419 0.2144521  0.21162179 0.21282405 0.20999374 0.20480902\n",
            " 0.20348153 0.20771446 0.20964308 0.21001879 0.21828428 0.21763306\n",
            " 0.2210645  0.21613024 0.21314966 0.21517846 0.21735755 0.21956168\n",
            " 0.21635567 0.22289292 0.22444584 0.22232937 0.21475266 0.21122104\n",
            " 0.18822793 0.18036318 0.18274264 0.17871008 0.17815905 0.1777082\n",
            " 0.18189105 0.17685661 0.17465247 0.1682154  0.16944271 0.17282405\n",
            " 0.17630557 0.18604884 0.17417658 0.17976205 0.18371947 0.19356293\n",
            " 0.20240451 0.20295554 0.19195625 0.19516376 0.1972611  0.1986711\n",
            " 0.1997399  0.20066696 0.20154485 0.20240796 0.20326504 0.20411572\n",
            " 0.20495772 0.20578909 0.20660874 0.20741647]\n",
            "14 day output [[0.20821267]]\n",
            "15 day input [0.15453976 0.15180964 0.14765185 0.16713838 0.16696306 0.16262993\n",
            " 0.16710081 0.16758923 0.16463369 0.16338134 0.16338134 0.16493425\n",
            " 0.17084534 0.17112085 0.16871634 0.16210394 0.16280526 0.16568566\n",
            " 0.17179712 0.1764809  0.17635567 0.183469   0.18562304 0.18219161\n",
            " 0.18126487 0.17778334 0.18467126 0.18564809 0.19273638 0.19153413\n",
            " 0.19313713 0.19829681 0.19556669 0.19579211 0.19316218 0.20077646\n",
            " 0.19997495 0.19644333 0.20343143 0.20641202 0.20726362 0.21823419\n",
            " 0.2144521  0.21162179 0.21282405 0.20999374 0.20480902 0.20348153\n",
            " 0.20771446 0.20964308 0.21001879 0.21828428 0.21763306 0.2210645\n",
            " 0.21613024 0.21314966 0.21517846 0.21735755 0.21956168 0.21635567\n",
            " 0.22289292 0.22444584 0.22232937 0.21475266 0.21122104 0.18822793\n",
            " 0.18036318 0.18274264 0.17871008 0.17815905 0.1777082  0.18189105\n",
            " 0.17685661 0.17465247 0.1682154  0.16944271 0.17282405 0.17630557\n",
            " 0.18604884 0.17417658 0.17976205 0.18371947 0.19356293 0.20240451\n",
            " 0.20295554 0.19195625 0.19516376 0.1972611  0.1986711  0.1997399\n",
            " 0.20066696 0.20154485 0.20240796 0.20326504 0.20411572 0.20495772\n",
            " 0.20578909 0.20660874 0.20741647 0.20821267]\n",
            "15 day output [[0.20899835]]\n",
            "16 day input [0.15180964 0.14765185 0.16713838 0.16696306 0.16262993 0.16710081\n",
            " 0.16758923 0.16463369 0.16338134 0.16338134 0.16493425 0.17084534\n",
            " 0.17112085 0.16871634 0.16210394 0.16280526 0.16568566 0.17179712\n",
            " 0.1764809  0.17635567 0.183469   0.18562304 0.18219161 0.18126487\n",
            " 0.17778334 0.18467126 0.18564809 0.19273638 0.19153413 0.19313713\n",
            " 0.19829681 0.19556669 0.19579211 0.19316218 0.20077646 0.19997495\n",
            " 0.19644333 0.20343143 0.20641202 0.20726362 0.21823419 0.2144521\n",
            " 0.21162179 0.21282405 0.20999374 0.20480902 0.20348153 0.20771446\n",
            " 0.20964308 0.21001879 0.21828428 0.21763306 0.2210645  0.21613024\n",
            " 0.21314966 0.21517846 0.21735755 0.21956168 0.21635567 0.22289292\n",
            " 0.22444584 0.22232937 0.21475266 0.21122104 0.18822793 0.18036318\n",
            " 0.18274264 0.17871008 0.17815905 0.1777082  0.18189105 0.17685661\n",
            " 0.17465247 0.1682154  0.16944271 0.17282405 0.17630557 0.18604884\n",
            " 0.17417658 0.17976205 0.18371947 0.19356293 0.20240451 0.20295554\n",
            " 0.19195625 0.19516376 0.1972611  0.1986711  0.1997399  0.20066696\n",
            " 0.20154485 0.20240796 0.20326504 0.20411572 0.20495772 0.20578909\n",
            " 0.20660874 0.20741647 0.20821267 0.20899835]\n",
            "16 day output [[0.20977491]]\n",
            "17 day input [0.14765185 0.16713838 0.16696306 0.16262993 0.16710081 0.16758923\n",
            " 0.16463369 0.16338134 0.16338134 0.16493425 0.17084534 0.17112085\n",
            " 0.16871634 0.16210394 0.16280526 0.16568566 0.17179712 0.1764809\n",
            " 0.17635567 0.183469   0.18562304 0.18219161 0.18126487 0.17778334\n",
            " 0.18467126 0.18564809 0.19273638 0.19153413 0.19313713 0.19829681\n",
            " 0.19556669 0.19579211 0.19316218 0.20077646 0.19997495 0.19644333\n",
            " 0.20343143 0.20641202 0.20726362 0.21823419 0.2144521  0.21162179\n",
            " 0.21282405 0.20999374 0.20480902 0.20348153 0.20771446 0.20964308\n",
            " 0.21001879 0.21828428 0.21763306 0.2210645  0.21613024 0.21314966\n",
            " 0.21517846 0.21735755 0.21956168 0.21635567 0.22289292 0.22444584\n",
            " 0.22232937 0.21475266 0.21122104 0.18822793 0.18036318 0.18274264\n",
            " 0.17871008 0.17815905 0.1777082  0.18189105 0.17685661 0.17465247\n",
            " 0.1682154  0.16944271 0.17282405 0.17630557 0.18604884 0.17417658\n",
            " 0.17976205 0.18371947 0.19356293 0.20240451 0.20295554 0.19195625\n",
            " 0.19516376 0.1972611  0.1986711  0.1997399  0.20066696 0.20154485\n",
            " 0.20240796 0.20326504 0.20411572 0.20495772 0.20578909 0.20660874\n",
            " 0.20741647 0.20821267 0.20899835 0.20977491]\n",
            "17 day output [[0.21054399]]\n",
            "18 day input [0.16713838 0.16696306 0.16262993 0.16710081 0.16758923 0.16463369\n",
            " 0.16338134 0.16338134 0.16493425 0.17084534 0.17112085 0.16871634\n",
            " 0.16210394 0.16280526 0.16568566 0.17179712 0.1764809  0.17635567\n",
            " 0.183469   0.18562304 0.18219161 0.18126487 0.17778334 0.18467126\n",
            " 0.18564809 0.19273638 0.19153413 0.19313713 0.19829681 0.19556669\n",
            " 0.19579211 0.19316218 0.20077646 0.19997495 0.19644333 0.20343143\n",
            " 0.20641202 0.20726362 0.21823419 0.2144521  0.21162179 0.21282405\n",
            " 0.20999374 0.20480902 0.20348153 0.20771446 0.20964308 0.21001879\n",
            " 0.21828428 0.21763306 0.2210645  0.21613024 0.21314966 0.21517846\n",
            " 0.21735755 0.21956168 0.21635567 0.22289292 0.22444584 0.22232937\n",
            " 0.21475266 0.21122104 0.18822793 0.18036318 0.18274264 0.17871008\n",
            " 0.17815905 0.1777082  0.18189105 0.17685661 0.17465247 0.1682154\n",
            " 0.16944271 0.17282405 0.17630557 0.18604884 0.17417658 0.17976205\n",
            " 0.18371947 0.19356293 0.20240451 0.20295554 0.19195625 0.19516376\n",
            " 0.1972611  0.1986711  0.1997399  0.20066696 0.20154485 0.20240796\n",
            " 0.20326504 0.20411572 0.20495772 0.20578909 0.20660874 0.20741647\n",
            " 0.20821267 0.20899835 0.20977491 0.21054399]\n",
            "18 day output [[0.21130756]]\n",
            "19 day input [0.16696306 0.16262993 0.16710081 0.16758923 0.16463369 0.16338134\n",
            " 0.16338134 0.16493425 0.17084534 0.17112085 0.16871634 0.16210394\n",
            " 0.16280526 0.16568566 0.17179712 0.1764809  0.17635567 0.183469\n",
            " 0.18562304 0.18219161 0.18126487 0.17778334 0.18467126 0.18564809\n",
            " 0.19273638 0.19153413 0.19313713 0.19829681 0.19556669 0.19579211\n",
            " 0.19316218 0.20077646 0.19997495 0.19644333 0.20343143 0.20641202\n",
            " 0.20726362 0.21823419 0.2144521  0.21162179 0.21282405 0.20999374\n",
            " 0.20480902 0.20348153 0.20771446 0.20964308 0.21001879 0.21828428\n",
            " 0.21763306 0.2210645  0.21613024 0.21314966 0.21517846 0.21735755\n",
            " 0.21956168 0.21635567 0.22289292 0.22444584 0.22232937 0.21475266\n",
            " 0.21122104 0.18822793 0.18036318 0.18274264 0.17871008 0.17815905\n",
            " 0.1777082  0.18189105 0.17685661 0.17465247 0.1682154  0.16944271\n",
            " 0.17282405 0.17630557 0.18604884 0.17417658 0.17976205 0.18371947\n",
            " 0.19356293 0.20240451 0.20295554 0.19195625 0.19516376 0.1972611\n",
            " 0.1986711  0.1997399  0.20066696 0.20154485 0.20240796 0.20326504\n",
            " 0.20411572 0.20495772 0.20578909 0.20660874 0.20741647 0.20821267\n",
            " 0.20899835 0.20977491 0.21054399 0.21130756]\n",
            "19 day output [[0.21206754]]\n",
            "20 day input [0.16262993 0.16710081 0.16758923 0.16463369 0.16338134 0.16338134\n",
            " 0.16493425 0.17084534 0.17112085 0.16871634 0.16210394 0.16280526\n",
            " 0.16568566 0.17179712 0.1764809  0.17635567 0.183469   0.18562304\n",
            " 0.18219161 0.18126487 0.17778334 0.18467126 0.18564809 0.19273638\n",
            " 0.19153413 0.19313713 0.19829681 0.19556669 0.19579211 0.19316218\n",
            " 0.20077646 0.19997495 0.19644333 0.20343143 0.20641202 0.20726362\n",
            " 0.21823419 0.2144521  0.21162179 0.21282405 0.20999374 0.20480902\n",
            " 0.20348153 0.20771446 0.20964308 0.21001879 0.21828428 0.21763306\n",
            " 0.2210645  0.21613024 0.21314966 0.21517846 0.21735755 0.21956168\n",
            " 0.21635567 0.22289292 0.22444584 0.22232937 0.21475266 0.21122104\n",
            " 0.18822793 0.18036318 0.18274264 0.17871008 0.17815905 0.1777082\n",
            " 0.18189105 0.17685661 0.17465247 0.1682154  0.16944271 0.17282405\n",
            " 0.17630557 0.18604884 0.17417658 0.17976205 0.18371947 0.19356293\n",
            " 0.20240451 0.20295554 0.19195625 0.19516376 0.1972611  0.1986711\n",
            " 0.1997399  0.20066696 0.20154485 0.20240796 0.20326504 0.20411572\n",
            " 0.20495772 0.20578909 0.20660874 0.20741647 0.20821267 0.20899835\n",
            " 0.20977491 0.21054399 0.21130756 0.21206754]\n",
            "20 day output [[0.21282586]]\n",
            "21 day input [0.16710081 0.16758923 0.16463369 0.16338134 0.16338134 0.16493425\n",
            " 0.17084534 0.17112085 0.16871634 0.16210394 0.16280526 0.16568566\n",
            " 0.17179712 0.1764809  0.17635567 0.183469   0.18562304 0.18219161\n",
            " 0.18126487 0.17778334 0.18467126 0.18564809 0.19273638 0.19153413\n",
            " 0.19313713 0.19829681 0.19556669 0.19579211 0.19316218 0.20077646\n",
            " 0.19997495 0.19644333 0.20343143 0.20641202 0.20726362 0.21823419\n",
            " 0.2144521  0.21162179 0.21282405 0.20999374 0.20480902 0.20348153\n",
            " 0.20771446 0.20964308 0.21001879 0.21828428 0.21763306 0.2210645\n",
            " 0.21613024 0.21314966 0.21517846 0.21735755 0.21956168 0.21635567\n",
            " 0.22289292 0.22444584 0.22232937 0.21475266 0.21122104 0.18822793\n",
            " 0.18036318 0.18274264 0.17871008 0.17815905 0.1777082  0.18189105\n",
            " 0.17685661 0.17465247 0.1682154  0.16944271 0.17282405 0.17630557\n",
            " 0.18604884 0.17417658 0.17976205 0.18371947 0.19356293 0.20240451\n",
            " 0.20295554 0.19195625 0.19516376 0.1972611  0.1986711  0.1997399\n",
            " 0.20066696 0.20154485 0.20240796 0.20326504 0.20411572 0.20495772\n",
            " 0.20578909 0.20660874 0.20741647 0.20821267 0.20899835 0.20977491\n",
            " 0.21054399 0.21130756 0.21206754 0.21282586]\n",
            "21 day output [[0.21358436]]\n",
            "22 day input [0.16758923 0.16463369 0.16338134 0.16338134 0.16493425 0.17084534\n",
            " 0.17112085 0.16871634 0.16210394 0.16280526 0.16568566 0.17179712\n",
            " 0.1764809  0.17635567 0.183469   0.18562304 0.18219161 0.18126487\n",
            " 0.17778334 0.18467126 0.18564809 0.19273638 0.19153413 0.19313713\n",
            " 0.19829681 0.19556669 0.19579211 0.19316218 0.20077646 0.19997495\n",
            " 0.19644333 0.20343143 0.20641202 0.20726362 0.21823419 0.2144521\n",
            " 0.21162179 0.21282405 0.20999374 0.20480902 0.20348153 0.20771446\n",
            " 0.20964308 0.21001879 0.21828428 0.21763306 0.2210645  0.21613024\n",
            " 0.21314966 0.21517846 0.21735755 0.21956168 0.21635567 0.22289292\n",
            " 0.22444584 0.22232937 0.21475266 0.21122104 0.18822793 0.18036318\n",
            " 0.18274264 0.17871008 0.17815905 0.1777082  0.18189105 0.17685661\n",
            " 0.17465247 0.1682154  0.16944271 0.17282405 0.17630557 0.18604884\n",
            " 0.17417658 0.17976205 0.18371947 0.19356293 0.20240451 0.20295554\n",
            " 0.19195625 0.19516376 0.1972611  0.1986711  0.1997399  0.20066696\n",
            " 0.20154485 0.20240796 0.20326504 0.20411572 0.20495772 0.20578909\n",
            " 0.20660874 0.20741647 0.20821267 0.20899835 0.20977491 0.21054399\n",
            " 0.21130756 0.21206754 0.21282586 0.21358436]\n",
            "22 day output [[0.21434465]]\n",
            "23 day input [0.16463369 0.16338134 0.16338134 0.16493425 0.17084534 0.17112085\n",
            " 0.16871634 0.16210394 0.16280526 0.16568566 0.17179712 0.1764809\n",
            " 0.17635567 0.183469   0.18562304 0.18219161 0.18126487 0.17778334\n",
            " 0.18467126 0.18564809 0.19273638 0.19153413 0.19313713 0.19829681\n",
            " 0.19556669 0.19579211 0.19316218 0.20077646 0.19997495 0.19644333\n",
            " 0.20343143 0.20641202 0.20726362 0.21823419 0.2144521  0.21162179\n",
            " 0.21282405 0.20999374 0.20480902 0.20348153 0.20771446 0.20964308\n",
            " 0.21001879 0.21828428 0.21763306 0.2210645  0.21613024 0.21314966\n",
            " 0.21517846 0.21735755 0.21956168 0.21635567 0.22289292 0.22444584\n",
            " 0.22232937 0.21475266 0.21122104 0.18822793 0.18036318 0.18274264\n",
            " 0.17871008 0.17815905 0.1777082  0.18189105 0.17685661 0.17465247\n",
            " 0.1682154  0.16944271 0.17282405 0.17630557 0.18604884 0.17417658\n",
            " 0.17976205 0.18371947 0.19356293 0.20240451 0.20295554 0.19195625\n",
            " 0.19516376 0.1972611  0.1986711  0.1997399  0.20066696 0.20154485\n",
            " 0.20240796 0.20326504 0.20411572 0.20495772 0.20578909 0.20660874\n",
            " 0.20741647 0.20821267 0.20899835 0.20977491 0.21054399 0.21130756\n",
            " 0.21206754 0.21282586 0.21358436 0.21434465]\n",
            "23 day output [[0.21510813]]\n",
            "24 day input [0.16338134 0.16338134 0.16493425 0.17084534 0.17112085 0.16871634\n",
            " 0.16210394 0.16280526 0.16568566 0.17179712 0.1764809  0.17635567\n",
            " 0.183469   0.18562304 0.18219161 0.18126487 0.17778334 0.18467126\n",
            " 0.18564809 0.19273638 0.19153413 0.19313713 0.19829681 0.19556669\n",
            " 0.19579211 0.19316218 0.20077646 0.19997495 0.19644333 0.20343143\n",
            " 0.20641202 0.20726362 0.21823419 0.2144521  0.21162179 0.21282405\n",
            " 0.20999374 0.20480902 0.20348153 0.20771446 0.20964308 0.21001879\n",
            " 0.21828428 0.21763306 0.2210645  0.21613024 0.21314966 0.21517846\n",
            " 0.21735755 0.21956168 0.21635567 0.22289292 0.22444584 0.22232937\n",
            " 0.21475266 0.21122104 0.18822793 0.18036318 0.18274264 0.17871008\n",
            " 0.17815905 0.1777082  0.18189105 0.17685661 0.17465247 0.1682154\n",
            " 0.16944271 0.17282405 0.17630557 0.18604884 0.17417658 0.17976205\n",
            " 0.18371947 0.19356293 0.20240451 0.20295554 0.19195625 0.19516376\n",
            " 0.1972611  0.1986711  0.1997399  0.20066696 0.20154485 0.20240796\n",
            " 0.20326504 0.20411572 0.20495772 0.20578909 0.20660874 0.20741647\n",
            " 0.20821267 0.20899835 0.20977491 0.21054399 0.21130756 0.21206754\n",
            " 0.21282586 0.21358436 0.21434465 0.21510813]\n",
            "24 day output [[0.21587586]]\n",
            "25 day input [0.16338134 0.16493425 0.17084534 0.17112085 0.16871634 0.16210394\n",
            " 0.16280526 0.16568566 0.17179712 0.1764809  0.17635567 0.183469\n",
            " 0.18562304 0.18219161 0.18126487 0.17778334 0.18467126 0.18564809\n",
            " 0.19273638 0.19153413 0.19313713 0.19829681 0.19556669 0.19579211\n",
            " 0.19316218 0.20077646 0.19997495 0.19644333 0.20343143 0.20641202\n",
            " 0.20726362 0.21823419 0.2144521  0.21162179 0.21282405 0.20999374\n",
            " 0.20480902 0.20348153 0.20771446 0.20964308 0.21001879 0.21828428\n",
            " 0.21763306 0.2210645  0.21613024 0.21314966 0.21517846 0.21735755\n",
            " 0.21956168 0.21635567 0.22289292 0.22444584 0.22232937 0.21475266\n",
            " 0.21122104 0.18822793 0.18036318 0.18274264 0.17871008 0.17815905\n",
            " 0.1777082  0.18189105 0.17685661 0.17465247 0.1682154  0.16944271\n",
            " 0.17282405 0.17630557 0.18604884 0.17417658 0.17976205 0.18371947\n",
            " 0.19356293 0.20240451 0.20295554 0.19195625 0.19516376 0.1972611\n",
            " 0.1986711  0.1997399  0.20066696 0.20154485 0.20240796 0.20326504\n",
            " 0.20411572 0.20495772 0.20578909 0.20660874 0.20741647 0.20821267\n",
            " 0.20899835 0.20977491 0.21054399 0.21130756 0.21206754 0.21282586\n",
            " 0.21358436 0.21434465 0.21510813 0.21587586]\n",
            "25 day output [[0.21664873]]\n",
            "26 day input [0.16493425 0.17084534 0.17112085 0.16871634 0.16210394 0.16280526\n",
            " 0.16568566 0.17179712 0.1764809  0.17635567 0.183469   0.18562304\n",
            " 0.18219161 0.18126487 0.17778334 0.18467126 0.18564809 0.19273638\n",
            " 0.19153413 0.19313713 0.19829681 0.19556669 0.19579211 0.19316218\n",
            " 0.20077646 0.19997495 0.19644333 0.20343143 0.20641202 0.20726362\n",
            " 0.21823419 0.2144521  0.21162179 0.21282405 0.20999374 0.20480902\n",
            " 0.20348153 0.20771446 0.20964308 0.21001879 0.21828428 0.21763306\n",
            " 0.2210645  0.21613024 0.21314966 0.21517846 0.21735755 0.21956168\n",
            " 0.21635567 0.22289292 0.22444584 0.22232937 0.21475266 0.21122104\n",
            " 0.18822793 0.18036318 0.18274264 0.17871008 0.17815905 0.1777082\n",
            " 0.18189105 0.17685661 0.17465247 0.1682154  0.16944271 0.17282405\n",
            " 0.17630557 0.18604884 0.17417658 0.17976205 0.18371947 0.19356293\n",
            " 0.20240451 0.20295554 0.19195625 0.19516376 0.1972611  0.1986711\n",
            " 0.1997399  0.20066696 0.20154485 0.20240796 0.20326504 0.20411572\n",
            " 0.20495772 0.20578909 0.20660874 0.20741647 0.20821267 0.20899835\n",
            " 0.20977491 0.21054399 0.21130756 0.21206754 0.21282586 0.21358436\n",
            " 0.21434465 0.21510813 0.21587586 0.21664873]\n",
            "26 day output [[0.21742731]]\n",
            "27 day input [0.17084534 0.17112085 0.16871634 0.16210394 0.16280526 0.16568566\n",
            " 0.17179712 0.1764809  0.17635567 0.183469   0.18562304 0.18219161\n",
            " 0.18126487 0.17778334 0.18467126 0.18564809 0.19273638 0.19153413\n",
            " 0.19313713 0.19829681 0.19556669 0.19579211 0.19316218 0.20077646\n",
            " 0.19997495 0.19644333 0.20343143 0.20641202 0.20726362 0.21823419\n",
            " 0.2144521  0.21162179 0.21282405 0.20999374 0.20480902 0.20348153\n",
            " 0.20771446 0.20964308 0.21001879 0.21828428 0.21763306 0.2210645\n",
            " 0.21613024 0.21314966 0.21517846 0.21735755 0.21956168 0.21635567\n",
            " 0.22289292 0.22444584 0.22232937 0.21475266 0.21122104 0.18822793\n",
            " 0.18036318 0.18274264 0.17871008 0.17815905 0.1777082  0.18189105\n",
            " 0.17685661 0.17465247 0.1682154  0.16944271 0.17282405 0.17630557\n",
            " 0.18604884 0.17417658 0.17976205 0.18371947 0.19356293 0.20240451\n",
            " 0.20295554 0.19195625 0.19516376 0.1972611  0.1986711  0.1997399\n",
            " 0.20066696 0.20154485 0.20240796 0.20326504 0.20411572 0.20495772\n",
            " 0.20578909 0.20660874 0.20741647 0.20821267 0.20899835 0.20977491\n",
            " 0.21054399 0.21130756 0.21206754 0.21282586 0.21358436 0.21434465\n",
            " 0.21510813 0.21587586 0.21664873 0.21742731]\n",
            "27 day output [[0.2182118]]\n",
            "28 day input [0.17112085 0.16871634 0.16210394 0.16280526 0.16568566 0.17179712\n",
            " 0.1764809  0.17635567 0.183469   0.18562304 0.18219161 0.18126487\n",
            " 0.17778334 0.18467126 0.18564809 0.19273638 0.19153413 0.19313713\n",
            " 0.19829681 0.19556669 0.19579211 0.19316218 0.20077646 0.19997495\n",
            " 0.19644333 0.20343143 0.20641202 0.20726362 0.21823419 0.2144521\n",
            " 0.21162179 0.21282405 0.20999374 0.20480902 0.20348153 0.20771446\n",
            " 0.20964308 0.21001879 0.21828428 0.21763306 0.2210645  0.21613024\n",
            " 0.21314966 0.21517846 0.21735755 0.21956168 0.21635567 0.22289292\n",
            " 0.22444584 0.22232937 0.21475266 0.21122104 0.18822793 0.18036318\n",
            " 0.18274264 0.17871008 0.17815905 0.1777082  0.18189105 0.17685661\n",
            " 0.17465247 0.1682154  0.16944271 0.17282405 0.17630557 0.18604884\n",
            " 0.17417658 0.17976205 0.18371947 0.19356293 0.20240451 0.20295554\n",
            " 0.19195625 0.19516376 0.1972611  0.1986711  0.1997399  0.20066696\n",
            " 0.20154485 0.20240796 0.20326504 0.20411572 0.20495772 0.20578909\n",
            " 0.20660874 0.20741647 0.20821267 0.20899835 0.20977491 0.21054399\n",
            " 0.21130756 0.21206754 0.21282586 0.21358436 0.21434465 0.21510813\n",
            " 0.21587586 0.21664873 0.21742731 0.2182118 ]\n",
            "28 day output [[0.2190024]]\n",
            "29 day input [0.16871634 0.16210394 0.16280526 0.16568566 0.17179712 0.1764809\n",
            " 0.17635567 0.183469   0.18562304 0.18219161 0.18126487 0.17778334\n",
            " 0.18467126 0.18564809 0.19273638 0.19153413 0.19313713 0.19829681\n",
            " 0.19556669 0.19579211 0.19316218 0.20077646 0.19997495 0.19644333\n",
            " 0.20343143 0.20641202 0.20726362 0.21823419 0.2144521  0.21162179\n",
            " 0.21282405 0.20999374 0.20480902 0.20348153 0.20771446 0.20964308\n",
            " 0.21001879 0.21828428 0.21763306 0.2210645  0.21613024 0.21314966\n",
            " 0.21517846 0.21735755 0.21956168 0.21635567 0.22289292 0.22444584\n",
            " 0.22232937 0.21475266 0.21122104 0.18822793 0.18036318 0.18274264\n",
            " 0.17871008 0.17815905 0.1777082  0.18189105 0.17685661 0.17465247\n",
            " 0.1682154  0.16944271 0.17282405 0.17630557 0.18604884 0.17417658\n",
            " 0.17976205 0.18371947 0.19356293 0.20240451 0.20295554 0.19195625\n",
            " 0.19516376 0.1972611  0.1986711  0.1997399  0.20066696 0.20154485\n",
            " 0.20240796 0.20326504 0.20411572 0.20495772 0.20578909 0.20660874\n",
            " 0.20741647 0.20821267 0.20899835 0.20977491 0.21054399 0.21130756\n",
            " 0.21206754 0.21282586 0.21358436 0.21434465 0.21510813 0.21587586\n",
            " 0.21664873 0.21742731 0.2182118  0.2190024 ]\n",
            "29 day output [[0.21979892]]\n",
            "[[0.19195625185966492], [0.195163756608963], [0.19726109504699707], [0.1986711025238037], [0.19973990321159363], [0.20066696405410767], [0.201544851064682], [0.20240795612335205], [0.20326504111289978], [0.20411571860313416], [0.2049577236175537], [0.20578908920288086], [0.20660874247550964], [0.20741647481918335], [0.20821267366409302], [0.20899835228919983], [0.209774911403656], [0.21054399013519287], [0.211307555437088], [0.21206754446029663], [0.21282586455345154], [0.21358436346054077], [0.21434465050697327], [0.21510812640190125], [0.21587586402893066], [0.21664872765541077], [0.2174273133277893], [0.2182117998600006], [0.2190023958683014], [0.21979892253875732]]\n"
          ]
        }
      ]
    },
    {
      "cell_type": "code",
      "source": [
        "day_new=np.arange(1,101)\n",
        "day_pred=np.arange(101,131)"
      ],
      "metadata": {
        "id": "xGkA33jyrsCU"
      },
      "execution_count": 214,
      "outputs": []
    },
    {
      "cell_type": "code",
      "source": [
        "import matplotlib.pyplot as plt"
      ],
      "metadata": {
        "id": "xVkBbz5Yryb3"
      },
      "execution_count": 215,
      "outputs": []
    },
    {
      "cell_type": "code",
      "source": [
        "len(df1)"
      ],
      "metadata": {
        "colab": {
          "base_uri": "https://localhost:8080/"
        },
        "id": "Rc6MKGN4r0Sm",
        "outputId": "eacb8d88-7ec2-4457-fc80-8ba56eca8bb0"
      },
      "execution_count": 216,
      "outputs": [
        {
          "output_type": "execute_result",
          "data": {
            "text/plain": [
              "1257"
            ]
          },
          "metadata": {},
          "execution_count": 216
        }
      ]
    },
    {
      "cell_type": "code",
      "source": [
        "plt.plot(day_new,scaler.inverse_transform(df1[1157:]))\n",
        "plt.plot(day_pred,scaler.inverse_transform(lst_output))"
      ],
      "metadata": {
        "colab": {
          "base_uri": "https://localhost:8080/",
          "height": 447
        },
        "id": "ZBF-Qqdbr1Q9",
        "outputId": "874f4ec5-82f1-4be8-a46d-c02d63745dcf"
      },
      "execution_count": 217,
      "outputs": [
        {
          "output_type": "execute_result",
          "data": {
            "text/plain": [
              "[<matplotlib.lines.Line2D at 0x7fd6b5db7dc0>]"
            ]
          },
          "metadata": {},
          "execution_count": 217
        },
        {
          "output_type": "display_data",
          "data": {
            "text/plain": [
              "<Figure size 640x480 with 1 Axes>"
            ],
            "image/png": "[encoded data removed]"
          },
          "metadata": {}
        }
      ]
    },
    {
      "cell_type": "code",
      "source": [
        "df3=df1.tolist()\n",
        "df3.extend(lst_output)\n",
        "plt.plot(df3[1200:])"
      ],
      "metadata": {
        "colab": {
          "base_uri": "https://localhost:8080/",
          "height": 447
        },
        "id": "tv5KHxrDr3MZ",
        "outputId": "0d7c01ae-1be8-4570-d218-7df0a7685100"
      },
      "execution_count": 218,
      "outputs": [
        {
          "output_type": "execute_result",
          "data": {
            "text/plain": [
              "[<matplotlib.lines.Line2D at 0x7fd6b5d54580>]"
            ]
          },
          "metadata": {},
          "execution_count": 218
        },
        {
          "output_type": "display_data",
          "data": {
            "text/plain": [
              "<Figure size 640x480 with 1 Axes>"
            ],
            "image/png": "[encoded data removed]"
          },
          "metadata": {}
        }
      ]
    },
    {
      "cell_type": "code",
      "source": [
        "df3=scaler.inverse_transform(df3).tolist()"
      ],
      "metadata": {
        "id": "R-iVsnyGsPnZ"
      },
      "execution_count": 219,
      "outputs": []
    },
    {
      "cell_type": "code",
      "source": [
        "plt.plot(df3)"
      ],
      "metadata": {
        "colab": {
          "base_uri": "https://localhost:8080/",
          "height": 447
        },
        "id": "vYJC6NVisRPb",
        "outputId": "5bb53887-ccbd-4fa6-aa30-757e4916441c"
      },
      "execution_count": 220,
      "outputs": [
        {
          "output_type": "execute_result",
          "data": {
            "text/plain": [
              "[<matplotlib.lines.Line2D at 0x7fd6b5c1a290>]"
            ]
          },
          "metadata": {},
          "execution_count": 220
        },
        {
          "output_type": "display_data",
          "data": {
            "text/plain": [
              "<Figure size 640x480 with 1 Axes>"
            ],
            "image/png": "[encoded data removed]"
          },
          "metadata": {}
        }
      ]
    }
  ]
}